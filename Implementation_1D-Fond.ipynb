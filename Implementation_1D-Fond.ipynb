{
 "cells": [
  {
   "cell_type": "markdown",
   "id": "interesting-attachment",

   "metadata": {},
   "source": [
    "# Implémentation du schéma de Rusanov"
   ]
  },
  {
   "cell_type": "markdown",

   "id": "gross-bacon",
   "metadata": {},
   "source": [
    "## Importations"
   ]
  },
  {
   "cell_type": "code",
   "id": "working-tradition",
   "metadata": {},
   "outputs": [],
   "source": [
    "import math as math\n",
    "import matplotlib.pyplot as plt\n",
    "import matplotlib.patches as patches\n",
    "\n",
    "from matplotlib.backends.backend_agg import FigureCanvasAgg as FigureCanvas\n",
    "from matplotlib.figure import Figure\n",
    "\n",
    "import numpy as np\n",
    "import imageio\n",
    "\n",
    "import time"
   ]
  },
  {
   "cell_type": "markdown",
   "id": "manual-judge",
   "metadata": {},
   "source": [
    "## Paramètres du problème"
   ]
  },
  {
   "cell_type": "code",

   "id": "relevant-interface",
   "metadata": {},
   "outputs": [],
   "source": [
    "g=1 # Constante gravitationnelle\n",
    "\n",
    "xMin = 0\n",
    "xMax = 10\n",
    "\n",
    "N=64\n",
    "h=(xMax-xMin)/(N+1) # Pas du maillage spatial\n",
    "\n",
    "Tmax=10 # Temps Max\n",
    "t=0 # Temps dans la simulation\n",
    "n=0 # Nombre d'itérations\n",
    "\n",
    "X = np.linspace(xMin,xMax,N+2) # Discrétisation de [xMin, xMax]\n",
    "\n",
    "# Tableau avec 2 lignes et N+2 colonnes : discrétisation du vecteur (h, q) en N parties + 2 aux bords\n",
    "\n",
    "U = np.ones((2,N+2))\n",
    "Uprime = np.zeros((2,N+2)) # Pour faire les calculs dans la boucle\n",
    "\n",
    "# Topographie Z\n",
    "Z = 1/(np.exp(X-5)+np.exp(-X+5))\n",
    "    \n",
    "def Z_prime(x):\n",
    "    return 0.5*np.sinh(x-5)/np.cosh(x-5)**2"
   ]
  },
  {
   "cell_type": "markdown",
   "id": "unauthorized-tract",
   "metadata": {},
   "source": [
    "## Nombre de sauvegardes durant la simulation"
   ]
  },
  {
   "cell_type": "code",
   "id": "published-civilization",
   "metadata": {},
   "outputs": [],
   "source": [
    "nSauvegarde=100\n",
    "tSauvegarde=[False for i in range(nSauvegarde)]\n",
    "images=[]\n",
    "j=0 #Nombre de sauvegardes déjà effectuées"
   ]
  },
  {
   "cell_type": "markdown",
   "id": "welsh-emphasis",
   "metadata": {},
   "source": [
    "## Conditions initiales"
   ]
  },
  {
   "cell_type": "code",

   "id": "worldwide-equation",

   "metadata": {},
   "outputs": [],
   "source": [
    "U[0,:] = 1/(np.exp(X-2)+np.exp(-X+2))+0.25"
   ]
  },
  {
   "cell_type": "markdown",
   "id": "maritime-farming",

   "metadata": {},
   "source": [
    "## Affichage des images"
   ]
  },
  {
   "cell_type": "code",
   "id": "optional-watson",
   "metadata": {},
   "outputs": [
    {
     "data": {
      "image/png": "[encoded data removed]",
      "text/plain": [
       "<Figure size 432x288 with 2 Axes>"
      ]
     },
     "metadata": {
      "needs_background": "light"
     },
     "output_type": "display_data"
    }
   ],
   "source": [
    "def affiche_U():\n",
    "    \n",
    "    fig, axs = plt.subplots(2,1)\n",
    "    \n",
    "    ###\n",
    "    h_z = [U[0,i]+Z[i] for i in range(N+2)]\n",
    "    axs[0].plot(X,h_z)\n",
    "    ###\n",
    "    \n",
    "    axs[0].set_title(\"h\")\n",
    "    axs[0].set_xlim([0,10])\n",
    "    axs[0].set_ylim([0,2])\n",
    "    axs[0].fill_between(X, Z, step=\"pre\", alpha=0.8, color=\"black\")\n",
    "    \n",
    "    axs[1].plot(X,U[1,:])\n",
    "    axs[1].set_title(\"q\")\n",
    "    #axs[1].set_xlim([0,10])\n",
    "    #axs[1].set_ylim([0,2])\n",
    "        \n",
    "    plt.show()\n",
    "    \n",
    "affiche_U()"
   ]
  },
  {
   "cell_type": "markdown",
   "id": "facial-jefferson",
   "metadata": {},
   "source": [
    "## Sauvegarde des images"
   ]
  },
  {
   "cell_type": "code",
   "execution_count": 38,
   "id": "simplified-bernard",
   "metadata": {},
   "outputs": [],
   "source": [
    "def enregistre_U(n,t):\n",
    "\n",
    "    t=round(t,4) # Troncature de t après la 4eme décimale\n",
    "    \n",
    "    fig, axs = plt.subplots(2,1)\n",
    "    fig.suptitle(\"t=\"+str(t),fontsize=16)\n",
    "\n",
    "    ###\n",
    "    h_z = [U[0,i]+Z[i] for i in range(N+2)]\n",
    "    axs[0].plot(X,h_z)\n",
    "    ###\n",
    "    \n",
    "    axs[0].set_title(\"h\")\n",
    "    axs[0].set_xlim([0,10])\n",
    "    axs[0].set_ylim([0,2])\n",
    "    axs[0].fill_between(X, Z , step=\"pre\", alpha=0.8,color=\"black\")\n",
    "    \n",
    "    axs[1].plot(X,U[1,:])\n",
    "    axs[1].set_title(\"q\")\n",
    "    axs[1].set_xlim([0,10])\n",
    "    axs[1].set_ylim([0,2])\n",
    "        \n",
    "    # To remove the huge white borders\n",
    "    axs[0].margins(0)\n",
    "    axs[1].margins(0)\n",
    "\n",
    "    fig.canvas.draw()\n",
    "    image_from_plot = np.frombuffer(fig.canvas.tostring_rgb(), dtype=np.uint8)\n",
    "    image_from_plot = image_from_plot.reshape(fig.canvas.get_width_height()[::-1] + (3,))\n",
    "    \n",
    "    images.append(image_from_plot)\n",
    "    \n",
    "    #Sauvegarde dans un fichier png\n",
    "    #plt.savefig(\"etape\"+str(n)+\".png\")\n",
    "    \n",
    "    plt.close()"
   ]
  },
  {
   "cell_type": "markdown",   "id": "located-butterfly",
   "metadata": {},
   "source": [
    "## Fonctions qui interviennent dans le schéma :"
   ]
  },
  {
   "cell_type": "code", 
   "id": "listed-stereo",
   "metadata": {},
   "outputs": [],
   "source": [
    "def F(U):\n",
    "    \"\"\"\n",
    "    \"\"\"\n",
    "    return np.array([U[1], U[1]**2/U[0]+g*U[0]**2/2])\n",
    "\n",
    "def B(U,dxZ):\n",
    "    \"\"\"\n",
    "    \"\"\"\n",
    "    return np.array([0, -g*U[0]*dxZ])\n",
    "\n",
    "def vmax(U,i):\n",
    "    \"\"\"\n",
    "    \"\"\"\n",
    "    res = abs(U[1,i]/U[0,i] + math.sqrt(g*U[0,i]))\n",
    "    \n",
    "    if (abs(U[1,i]/U[0,i] - math.sqrt(g*U[0,i])) > res):\n",
    "        res = abs(U[1,i]/U[0,i] - math.sqrt(g*U[0,i]))\n",
    "        \n",
    "    if (abs(U[1,i+1]/U[0,i+1] + math.sqrt(g*U[0,i+1])) > res):\n",
    "        res = abs(U[1,i+1]/U[0,i+1] + math.sqrt(g*U[0,i+1]))\n",
    "    \n",
    "    if (abs(U[1,i+1]/U[0,i+1] - math.sqrt(g*U[0,i+1])) > res):\n",
    "        res = abs(U[1,i+1]/U[0,i+1] - math.sqrt(g*U[0,i+1]))\n",
    "        \n",
    "    return res\n",
    "\n",
    "def F_ronde(U,i):\n",
    "    \"\"\"\n",
    "    \"\"\"\n",
    "    return (F(U[:,i])+F(U[:,i+1]))/2-vmax(U,i)*(U[:,i+1]-U[:,i])/2"
   ]
  },
  {
   "cell_type": "markdown",
   "id": "introductory-entrance",
   "metadata": {},
   "source": [
    "# Résolution :"
   ]
  },
  {
   "cell_type": "code",
   "execution_count": 40,
   "id": "attended-identification",
   "metadata": {},
   "outputs": [
    {
     "data": {
      "image/png": "[encoded data removed]",
      "text/plain": [
       "<Figure size 432x288 with 2 Axes>"
      ]
     },
     "metadata": {
      "needs_background": "light"
     },
     "output_type": "display_data"
    },
    {
     "name": "stdout",
     "output_type": "stream",
     "text": [
      "Calcul en cours ...\n",
      "Nombre d'itérations : 441\n",
      "Gif Sauvegardé dans le dossier sous le nom : movie.gif\n"
     ]
    }
   ],
   "source": [
    "enregistre_U(n,t)\n",
    "affiche_U()\n",
    "\n",
    "print(\"Calcul en cours ...\")\n",
    "while(t<Tmax): # Tant que le temps max n'est pas atteint :\n",
    "\n",
    "    #print(\"t=\"+str(round(t,4)))\n",
    "    M = vmax(U, 1)\n",
    "    \n",
    "    for i in range(2, N+1):\n",
    "        M = max(M, vmax(U, i))\n",
    "    \n",
    "    # Pour assurer la stabilité, tau doit être inférieur à h/(2* max(vp))\n",
    "    tau = h/(2*M)\n",
    "    \n",
    "    for i in range(1, N+1):\n",
    "        Uprime[0,i] = U[0,i]+tau/h*(F_ronde(U,i-1)-F_ronde(U,i))[0]\n",
    "        Uprime[1,i] = U[1,i]+tau/h*(F_ronde(U,i-1)-F_ronde(U,i))[1]\n",
    "        dxZ = Z_prime(X[i])\n",
    "        Uprime[:,i] += tau*B(U[:,i], dxZ)\n",
    "        \n",
    "    U = Uprime\n",
    "    \n",
    "    # Conditions aux bords\n",
    "    U[:,0] = U[:,1]\n",
    "    U[:,N+1] = U[:,N]\n",
    "\n",
    "    t+=tau\n",
    "    n+=1\n",
    "    \n",
    "    if (t > Tmax/nSauvegarde*j and (j<nSauvegarde) and (not tSauvegarde[j])):\n",
    "        enregistre_U(n,t)\n",
    "        #affiche_U()\n",
    "        tSauvegarde[j]=True\n",
    "        j+=1\n",
    "\n",
    "print(\"Nombre d'itérations : \" + str(n))\n",
    "\n",
    "imageio.mimsave('movie.gif', images)\n",
    "print(\"Gif Sauvegardé dans le dossier sous le nom : movie.gif\")"
   ]
  },
  {
   "cell_type": "code",
   "execution_count": null,   "id": "commercial-nebraska",
   "metadata": {},
   "outputs": [],
   "source": []
  },
  {
   "cell_type": "code",
   "execution_count": null,
   "id": "actual-cache",
   "metadata": {},
   "outputs": [],
   "source": []
  }
 ],
 "metadata": {
  "kernelspec": {
   "display_name": "Python 3",
   "language": "python",
   "name": "python3"
  },
  "language_info": {
   "codemirror_mode": {
    "name": "ipython",
    "version": 3
   },
   "file_extension": ".py",
   "mimetype": "text/x-python",
   "name": "python",
   "nbconvert_exporter": "python",
   "pygments_lexer": "ipython3",
   "version": "3.8.5"
  }
 },
 "nbformat": 4,
 "nbformat_minor": 5
}
