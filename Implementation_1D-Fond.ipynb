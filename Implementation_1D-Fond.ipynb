{
 "cells": [
  {
   "cell_type": "markdown",
   "id": "interesting-attachment",
   "metadata": {},
   "source": [
    "# Implémentation du schéma de Rusanov"
   ]
  },
  {
   "cell_type": "markdown",
   "id": "immediate-integrity",
   "metadata": {},
   "source": [
    "## Importations"
   ]
  },
  {
   "cell_type": "code",
   "execution_count": 94,
   "id": "working-tradition",
   "metadata": {},
   "outputs": [],
   "source": [
    "import math as math\n",
    "import matplotlib.pyplot as plt\n",
    "import matplotlib.patches as patches\n",
    "\n",
    "from matplotlib.backends.backend_agg import FigureCanvasAgg as FigureCanvas\n",
    "from matplotlib.figure import Figure\n",
    "\n",
    "import numpy as np\n",
    "import imageio\n",
    "\n",
    "import time"
   ]
  },
  {
   "cell_type": "markdown",
   "id": "understood-monkey",
   "metadata": {},
   "source": [
    "## Paramètres du problème"
   ]
  },
  {
   "cell_type": "code",
   "execution_count": 114,
   "id": "relevant-interface",
   "metadata": {},
   "outputs": [],
   "source": [
    "g=1 # Constante gravitationnelle\n",
    "\n",
    "xMin = 0\n",
    "xMax = 10\n",
    "\n",
    "N=64\n",
    "h=(xMax-xMin)/(N+1) # Pas du maillage spatial\n",
    "\n",
    "Tmax=30 # Temps Max\n",
    "t=0 # Temps dans la simulation\n",
    "n=0 # Nombre d'itérations\n",
    "\n",
    "X = np.linspace(xMin,xMax,N+2) # Discrétisation de [xMin, xMax]\n",
    "\n",
    "# Tableau avec 2 lignes et N+2 colonnes : discrétisation du vecteur (h, q) en N parties + 2 aux bords\n",
    "\n",
    "U = np.ones((2,N+2))\n",
    "Uprime = np.zeros((2,N+2)) # Pour faire les calculs dans la boucle"
   ]
  },
  {
   "cell_type": "markdown",
   "id": "unauthorized-tract",
   "metadata": {},
   "source": [
    "## Nombre de sauvegardes durant la simulation"
   ]
  },
  {
   "cell_type": "code",
   "execution_count": 115,
   "id": "published-civilization",
   "metadata": {},
   "outputs": [],
   "source": [
    "nSauvegarde=100\n",
    "tSauvegarde=[False for i in range(nSauvegarde)]\n",
    "images=[]\n",
    "j=0 #Nombre de sauvegardes déjà effectuées"
   ]
  },
  {
   "cell_type": "markdown",
   "id": "welsh-emphasis",
   "metadata": {},
   "source": [
    "## Conditions initiales et Topographie"
   ]
  },
  {
   "cell_type": "code",
   "execution_count": 116,
   "id": "worldwide-equation",
   "metadata": {},
   "outputs": [],
   "source": [
    "Z = np.zeros((1,N+2))\n",
    "\n",
    "#Conditions initiales spéciales avec Z en pente au bord du rivage et h en escalier\n",
    "# for i in range(N+2):\n",
    "#     U[1,i]=1\n",
    "#     if(X[i]<2):\n",
    "#         U[0,i] = 1.5\n",
    "#     elif(X[i]<5):\n",
    "#         U[0,i] = .75\n",
    "#     elif(X[i]<7.5):\n",
    "#         U[0,i] = .75 - ( .3 * (X[i] - 5) ) \n",
    "#     else:\n",
    "#         U[0,i] = 0\n",
    "\n",
    "# # Topographie Z\n",
    "# for i in range(N+2):\n",
    "#     if(X[i]<5):\n",
    "#         Z[0,i] = 0\n",
    "#     else:\n",
    "#         Z[0,i] = .3 * (X[i] - 5)\n",
    "\n",
    "        \n",
    "#Conditions initiales avec Z constant = 0  et h en escalier\n",
    "Z = np.zeros((1,N+2)) \n",
    "\n",
    "for i in range(N+2):\n",
    "    U[1,i]=1\n",
    "    if(X[i]<5):\n",
    "        U[0,i] = 1.5\n",
    "    else:\n",
    "        U[0,i] = .75        "
   ]
  },
  {
   "cell_type": "markdown",
   "id": "maritime-farming",
   "metadata": {},
   "source": [
    "## Affichage des images"
   ]
  },
  {
   "cell_type": "code",
   "execution_count": 117,
   "id": "optional-watson",
   "metadata": {},
   "outputs": [
    {
     "data": {
      "image/png": "[encoded data removed]",
      "text/plain": [
       "<Figure size 432x288 with 2 Axes>"
      ]
     },
     "metadata": {
      "needs_background": "light"
     },
     "output_type": "display_data"
    }
   ],
   "source": [
    "def affiche_U():\n",
    "    \n",
    "    fig, axs = plt.subplots(2,1)\n",
    "    \n",
    "    ###\n",
    "    h_z = [U[0,i]+Z[0,i] for i in range(N+2)]\n",
    "    axs[0].plot(X,h_z)\n",
    "    ###\n",
    "    \n",
    "    axs[0].set_title(\"h\")\n",
    "    axs[0].set_xlim([0,10])\n",
    "    axs[0].set_ylim([0,2])\n",
    "    axs[0].fill_between(X, Z[0], step=\"pre\", alpha=0.5, color=\"black\")\n",
    "    \n",
    "    axs[1].plot(X,U[1,:])\n",
    "    axs[1].set_title(\"q\")\n",
    "    axs[1].set_xlim([0,10])\n",
    "    axs[1].set_ylim([0,2])\n",
    "        \n",
    "    plt.show()\n",
    "    \n",
    "affiche_U()"
   ]
  },
  {
   "cell_type": "markdown",
   "id": "facial-jefferson",
   "metadata": {},
   "source": [
    "## Sauvegarde des images"
   ]
  },
  {
   "cell_type": "code",
   "execution_count": 118,
   "id": "simplified-bernard",
   "metadata": {},
   "outputs": [],
   "source": [
    "def enregistre_U(n,t):\n",
    "\n",
    "    t=round(t,4) # Troncature de t après la 4eme décimale\n",
    "    \n",
    "    fig, axs = plt.subplots(2,1)\n",
    "    fig.suptitle(\"t=\"+str(t),fontsize=16)\n",
    "\n",
    "    ###\n",
    "    h_z = [U[0,i]+Z[0,i] for i in range(N+2)]\n",
    "    axs[0].plot(X,h_z)\n",
    "    ###\n",
    "    \n",
    "    axs[0].set_title(\"h\")\n",
    "    axs[0].set_xlim([0,10])\n",
    "    axs[0].set_ylim([0,2])\n",
    "    axs[0].fill_between(X, Z[0] , step=\"pre\", alpha=0.5,color=\"black\")\n",
    "    \n",
    "    axs[1].plot(X,U[1,:])\n",
    "    axs[1].set_title(\"q\")\n",
    "    axs[1].set_xlim([0,10])\n",
    "    axs[1].set_ylim([0,2])\n",
    "        \n",
    "    # To remove the huge white borders\n",
    "    axs[0].margins(0)\n",
    "    axs[1].margins(0)\n",
    "\n",
    "    fig.canvas.draw()\n",
    "    image_from_plot = np.frombuffer(fig.canvas.tostring_rgb(), dtype=np.uint8)\n",
    "    image_from_plot = image_from_plot.reshape(fig.canvas.get_width_height()[::-1] + (3,))\n",
    "    \n",
    "    images.append(image_from_plot)\n",
    "    \n",
    "    #Sauvegarde dans un fichier png\n",
    "    #plt.savefig(\"etape\"+str(n)+\".png\")\n",
    "    \n",
    "    plt.close()"
   ]
  },
  {
   "cell_type": "markdown",
   "id": "located-butterfly",
   "metadata": {},
   "source": [
    "## Fonctions qui interviennent dans le schéma :"
   ]
  },
  {
   "cell_type": "code",
   "execution_count": 119,
   "id": "listed-stereo",
   "metadata": {},
   "outputs": [],
   "source": [
    "def F(U):\n",
    "    \"\"\"\n",
    "    \"\"\"\n",
    "    return np.array([U[1], (U[1]**2)/U[0] + g*(U[0]**2)/2])\n",
    "\n",
    "def B(U,dxZ):\n",
    "    \"\"\"\n",
    "    \"\"\"\n",
    "    return np.array([0, -g*U[0]*dxZ])\n",
    "\n",
    "def P(x):\n",
    "    \"\"\"\n",
    "    \"\"\"\n",
    "    return( .5 * g * x * x )\n",
    "\n",
    "def vmax( x , y ):\n",
    "    \"\"\"\n",
    "    \"\"\"\n",
    "    res = abs(x[1]/x[0] + math.sqrt(g*x[0]))\n",
    "    \n",
    "    if (abs(x[1]/x[0] - math.sqrt(g*x[0])) > res):\n",
    "        res = abs(x[1]/x[0] - math.sqrt(g*x[0]))\n",
    "        \n",
    "    if (abs(y[1]/y[0] + math.sqrt(g*y[0])) > res):\n",
    "        res = abs(y[1]/y[0] + math.sqrt(g*y[0]))\n",
    "    \n",
    "    if (abs(y[1]/y[0] - math.sqrt(g*y[0])) > res):\n",
    "        res = abs(y[1]/y[0] - math.sqrt(g*y[0]))\n",
    "                  \n",
    "    return res\n",
    "\n",
    "def F_ronde( x , y ):\n",
    "    \"\"\"\n",
    "    \"\"\"\n",
    "    return ( (F(x)+F(y)) / 2 - vmax(x,y)*(y-x)/2 )"
   ]
  },
  {
   "cell_type": "markdown",
   "id": "introductory-entrance",
   "metadata": {},
   "source": [
    "# Résolution :"
   ]
  },
  {
   "cell_type": "code",
   "execution_count": 120,
   "id": "attended-identification",
   "metadata": {},
   "outputs": [
    {
     "name": "stdout",
     "output_type": "stream",
     "text": [
      "Calcul en cours ...\n",
      "Nombre d'itérations : 836\n",
      "Gif Sauvegardé dans le dossier sous le nom : movie.gif\n"
     ]
    }
   ],
   "source": [
    "enregistre_U(n,t)\n",
    "\n",
    "print(\"Calcul en cours ...\")\n",
    "while(t<Tmax): # Tant que le temps max n'est pas atteint :\n",
    "\n",
    "    #print(\"t=\"+str(round(t,4)))\n",
    "    #print(\"n=\"+str(n))\n",
    "    #affiche_U()\n",
    "\n",
    "    M = vmax(U[:,0],U[:,1])\n",
    "    \n",
    "    for i in range(1, N+1):\n",
    "        M = max(M, vmax(U[:,i],U[:,i+1]) )\n",
    "    \n",
    "    # Pour assurer la stabilité, tau doit être inférieur à h/(2* max(vp))\n",
    "    tau = h/(2*M)\n",
    "    \n",
    "    for i in range(1, N+1):\n",
    "        \n",
    "        #Hauteurs reconstituées\n",
    "        h_plus_12_G = max(U[0, i ]+Z[0, i ] - max(Z[0,i],Z[0,i+1]) , 0 ) # h à gauche de i+1/2\n",
    "        h_plus_12_D = max(U[0,i+1]+Z[0,i+1] - max(Z[0,i],Z[0,i+1]) , 0 ) # h à droite de i+1/2\n",
    "        \n",
    "        h_moins_12_G = max(U[0,i-1]+Z[0,i-1] - max(Z[0,i-1],Z[0,i]) , 0 ) # h à gauche de i-1/2\n",
    "        h_moins_12_D = max(U[0, i ]+Z[0, i ] - max(Z[0,i-1],Z[0,i]) , 0 ) # h à droite de i-1/2\n",
    "        \n",
    "        \n",
    "        #Vecteurs reconstitués\n",
    "        U_plus_12_G = np.array([ h_plus_12_G , U[1,i] ])\n",
    "        U_plus_12_D = np.array([ h_plus_12_D , U[1,i] ])\n",
    "        \n",
    "        U_moins_12_G = np.array([ h_moins_12_G , U[1,i-1] ])\n",
    "        U_moins_12_D = np.array([ h_moins_12_D , U[1,i-1] ])\n",
    "        \n",
    "        \n",
    "        # Dernière équation avant le 3.3 du pdf code C saintvenant\n",
    "        F_plus_12 = F_ronde( U_plus_12_G , U_plus_12_D )\n",
    "        F_moins_12 = F_ronde( U_moins_12_G , U_moins_12_D )\n",
    "        \n",
    "        # Équation (33)\n",
    "        S_plus_12_G = np.array([ 0 , P(U[0,i]) - P(h_plus_12_G) ])\n",
    "        S_moins_12_D = np.array([ 0 , P(U[0,i]) - P(h_moins_12_D) ])\n",
    "        \n",
    "        # Équation (32)\n",
    "        F_plus_12_G = F_plus_12 + S_plus_12_G\n",
    "        F_moins_12_D = F_moins_12 + S_moins_12_D\n",
    "        \n",
    "                \n",
    "        Uprime[:,i] = U[:,i] - tau/h * (F_plus_12_G - F_moins_12_D )\n",
    "          \n",
    "    \n",
    "    U = Uprime\n",
    "    \n",
    "    # Conditions aux bords\n",
    "    U[:,0] = U[:,1]\n",
    "    U[:,N+1] = U[:,N]\n",
    "\n",
    "    t+=tau\n",
    "    n+=1\n",
    "    \n",
    "    if (t > Tmax/nSauvegarde*j and (j<nSauvegarde) and (not tSauvegarde[j])):\n",
    "        enregistre_U(n,t)\n",
    "        #affiche_U()\n",
    "        tSauvegarde[j]=True\n",
    "        j+=1\n",
    "\n",
    "print(\"Nombre d'itérations : \" + str(n))\n",
    "\n",
    "imageio.mimsave('movie.gif', images)\n",
    "print(\"Gif Sauvegardé dans le dossier sous le nom : movie.gif\")"
   ]
  },
  {
   "cell_type": "code",
   "execution_count": null,
   "id": "0edc8be9",
   "metadata": {},
   "outputs": [],
   "source": []
  }
 ],
 "metadata": {
  "kernelspec": {
   "display_name": "Python 3",
   "language": "python",
   "name": "python3"
  },
  "language_info": {
   "codemirror_mode": {
    "name": "ipython",
    "version": 3
   },
   "file_extension": ".py",
   "mimetype": "text/x-python",
   "name": "python",
   "nbconvert_exporter": "python",
   "pygments_lexer": "ipython3",
   "version": "3.6.2"
  }
 },
 "nbformat": 4,
 "nbformat_minor": 5
}
