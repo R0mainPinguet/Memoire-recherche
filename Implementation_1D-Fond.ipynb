{
 "cells": [
  {
   "cell_type": "markdown",
   "id": "interesting-attachment",
   "metadata": {},
   "source": [
    "# Implémentation du schéma de Rusanov"
   ]
  },
  {
   "cell_type": "markdown",
   "id": "immediate-integrity",
   "metadata": {},
   "source": [
    "## Importations"
   ]
  },
  {
   "cell_type": "code",
   "execution_count": 1,
   "id": "working-tradition",
   "metadata": {},
   "outputs": [],
   "source": [
    "import math as math\n",
    "import matplotlib.pyplot as plt\n",
    "import matplotlib.patches as patches\n",
    "\n",
    "from matplotlib.backends.backend_agg import FigureCanvasAgg as FigureCanvas\n",
    "from matplotlib.figure import Figure\n",
    "\n",
    "import numpy as np\n",
    "import imageio\n",
    "\n",
    "import time"
   ]
  },
  {
   "cell_type": "markdown",
   "id": "understood-monkey",
   "metadata": {},
   "source": [
    "## Paramètres du problème"
   ]
  },
  {
   "cell_type": "code",
   "execution_count": 16,
   "id": "relevant-interface",
   "metadata": {},
   "outputs": [],
   "source": [
    "g=1 # Constante gravitationnelle\n",
    "\n",
    "xMin = 0\n",
    "xMax = 10\n",
    "\n",
    "N=64\n",
    "h=(xMax-xMin)/(N+1) # Pas du maillage spatial\n",
    "\n",
    "Tmax= 20 # Temps Max\n",
    "t=0 # Temps dans la simulation\n",
    "n=0 # Nombre d'itérations\n",
    "\n",
    "X = np.linspace(xMin,xMax,N+2) # Discrétisation de [xMin, xMax]"
   ]
  },
  {
   "cell_type": "markdown",
   "id": "unauthorized-tract",
   "metadata": {},
   "source": [
    "## Nombre de sauvegardes durant la simulation"
   ]
  },
  {
   "cell_type": "code",
   "execution_count": 17,
   "id": "published-civilization",
   "metadata": {},
   "outputs": [],
   "source": [
    "nSauvegarde=200\n",
    "tSauvegarde=[False for i in range(nSauvegarde)]\n",
    "images=[]\n",
    "j=0 #Nombre de sauvegardes déjà effectuées"
   ]
  },
  {
   "cell_type": "markdown",
   "id": "welsh-emphasis",
   "metadata": {},
   "source": [
    "## Conditions initiales et Topographie"
   ]
  },
  {
   "cell_type": "code",
   "execution_count": 18,
   "id": "worldwide-equation",
   "metadata": {},
   "outputs": [],
   "source": [
    "# Tableau avec 2 lignes et N+2 colonnes : discrétisation du vecteur (h, q) en N parties + 2 aux bords\n",
    "\n",
    "U = np.ones((2,N+2))\n",
    "Uprime = np.zeros((2,N+2)) # Pour faire les calculs dans la boucle\n",
    "Z = np.zeros((1,N+2))\n",
    "     \n",
    "    \n",
    "##CONDITIONS SUR Z\n",
    "\n",
    "\n",
    "# Conditions initiales avec Z = 0\n",
    "Z[0,:]= 0\n",
    "\n",
    "# Conditions initiales avec Z en créneau\n",
    "# Z[0,(N+2)//5:2*(N+2)//5]= 0.3\n",
    "# Z[0,3*(N+2)//5:4*(N+2)//5]= 0.3\n",
    "\n",
    "# Conditions initiales avec Z en bosse C infini\n",
    "# i=0\n",
    "# for x in X:\n",
    "#     Z[0,i]= 1/ ( np.exp(x-5) + np.exp(5-x) )\n",
    "#     i+=1\n",
    "\n",
    "# Conditions initiales avec Z en escalier descendant\n",
    "# Z[0,0:(N+2)//4]= .75\n",
    "# Z[0,(N+2)//4:3*(N+2)//4]= 0.25\n",
    "\n",
    "# Conditions initiales avec Z en tangente hyperbolique\n",
    "# i=0\n",
    "# for x in X:\n",
    "#     Z[0,i]= np.tanh(5-x)/2 + .5\n",
    "#    i+=1\n",
    "\n",
    "\n",
    "##CONDITIONS SUR H\n",
    "\n",
    "# Hauteur de l'eau en escalier \n",
    "U[0, 0 :(N+2)//3]= 1.75 - Z[0,:(N+2)//3]\n",
    "U[0,(N+2)//3:N+2]= 1.25 - Z[0,(N+2)//3:N+2]\n",
    "\n",
    "# Hauteur de l'eau constante\n",
    "U[0,:]= 1\n",
    "\n",
    "\n",
    "##CONDITIONS SUR Q\n",
    "\n",
    "\n",
    "# Débit de l'eau constant\n",
    "U[1,:]           = .5"
   ]
  },
  {
   "cell_type": "markdown",
   "id": "maritime-farming",
   "metadata": {},
   "source": [
    "## Affichage des images"
   ]
  },
  {
   "cell_type": "code",
   "execution_count": 19,
   "id": "optional-watson",
   "metadata": {},
   "outputs": [
    {
     "data": {
      "image/png": "[encoded data removed]",
      "text/plain": [
       "<Figure size 432x288 with 2 Axes>"
      ]
     },
     "metadata": {
      "needs_background": "light"
     },
     "output_type": "display_data"
    }
   ],
   "source": [
    "def affiche_U():\n",
    "    \n",
    "    fig, axs = plt.subplots(2,1)\n",
    "    \n",
    "    ###\n",
    "    h_z = U[0,:]+Z[0,:]\n",
    "    axs[0].plot(X,h_z)\n",
    "    ###\n",
    "    \n",
    "    axs[0].set_title(\"h\")\n",
    "    axs[0].set_xlim([0,10])\n",
    "    axs[0].set_ylim([0,2])\n",
    "    axs[0].fill_between(X, Z[0], step=\"pre\", alpha=0.5, color=\"black\")\n",
    "    \n",
    "    axs[1].plot(X,U[1,:])\n",
    "    axs[1].set_title(\"q\")\n",
    "    axs[1].set_xlim([0,10])\n",
    "    axs[1].set_ylim([0,2])\n",
    "        \n",
    "    plt.show()\n",
    "    \n",
    "affiche_U()"
   ]
  },
  {
   "cell_type": "markdown",
   "id": "facial-jefferson",
   "metadata": {},
   "source": [
    "## Sauvegarde des images"
   ]
  },
  {
   "cell_type": "code",
   "execution_count": 13,
   "id": "simplified-bernard",
   "metadata": {},
   "outputs": [],
   "source": [
    "def enregistre_U(n,t):\n",
    "\n",
    "    t=round(t,4) # Troncature de t après la 4eme décimale\n",
    "    \n",
    "    fig, axs = plt.subplots(2,1)\n",
    "    fig.suptitle(\"t=\"+str(t),fontsize=16)\n",
    "\n",
    "    ###\n",
    "    h_z = U[0,:]+Z[0,:]\n",
    "    axs[0].plot(X,h_z)\n",
    "    ###\n",
    "    \n",
    "    axs[0].set_title(\"h\")\n",
    "    axs[0].set_xlim([0,10])\n",
    "    axs[0].set_ylim([0,2])\n",
    "    axs[0].fill_between(X, Z[0] , step=\"pre\", alpha=0.5,color=\"black\")\n",
    "    \n",
    "    axs[1].plot(X,U[1,:])\n",
    "    axs[1].set_title(\"q\")\n",
    "    axs[1].set_xlim([0,10])\n",
    "    axs[1].set_ylim([0,2])\n",
    "        \n",
    "    # To remove the huge white borders\n",
    "    axs[0].margins(0)\n",
    "    axs[1].margins(0)\n",
    "\n",
    "    fig.canvas.draw()\n",
    "    image_from_plot = np.frombuffer(fig.canvas.tostring_rgb(), dtype=np.uint8)\n",
    "    image_from_plot = image_from_plot.reshape(fig.canvas.get_width_height()[::-1] + (3,))\n",
    "    \n",
    "    images.append(image_from_plot)\n",
    "    \n",
    "    #Sauvegarde dans un fichier png\n",
    "    #plt.savefig(\"etape\"+str(n)+\".png\")\n",
    "    \n",
    "    plt.close()"
   ]
  },
  {
   "cell_type": "markdown",
   "id": "located-butterfly",
   "metadata": {},
   "source": [
    "## Fonctions qui interviennent dans le schéma :"
   ]
  },
  {
   "cell_type": "code",
   "execution_count": 14,
   "id": "listed-stereo",
   "metadata": {},
   "outputs": [],
   "source": [
    "def F(X):\n",
    "    \"\"\"\n",
    "    \"\"\"\n",
    "    return np.array([X[1], (X[1]**2)/X[0] + g*(X[0]**2)/2])\n",
    "\n",
    "def P(x):\n",
    "    \"\"\"\n",
    "    \"\"\"\n",
    "    return( .5 * g * x * x )\n",
    "\n",
    "def vmax( x , y ):\n",
    "    \"\"\"\n",
    "    \"\"\"\n",
    "    res = abs(x[1]/x[0] + math.sqrt(g*x[0]))\n",
    "    \n",
    "    if (abs(x[1]/x[0] - math.sqrt(g*x[0])) > res):\n",
    "        res = abs(x[1]/x[0] - math.sqrt(g*x[0]))\n",
    "        \n",
    "    if (abs(y[1]/y[0] + math.sqrt(g*y[0])) > res):\n",
    "        res = abs(y[1]/y[0] + math.sqrt(g*y[0]))\n",
    "    \n",
    "    if (abs(y[1]/y[0] - math.sqrt(g*y[0])) > res):\n",
    "        res = abs(y[1]/y[0] - math.sqrt(g*y[0]))\n",
    "                  \n",
    "    return res\n",
    "\n",
    "def F_ronde( x , y ):\n",
    "    \"\"\"\n",
    "    \"\"\"\n",
    "    return ( (F(x)+F(y)) / 2 - vmax(x,y)*(y-x)/2 )\n",
    "\n",
    "def Z_ronde(i):\n",
    "    \"\"\"\n",
    "    \"\"\"\n",
    "    return(np.array([0,g * U[0,i] * (Z[0,i+1]-Z[0,i-1])/2]))"
   ]
  },
  {
   "cell_type": "markdown",
   "id": "introductory-entrance",
   "metadata": {},
   "source": [
    "# Résolution :"
   ]
  },
  {
   "cell_type": "code",
   "execution_count": 20,
   "id": "9dfcacdd",
   "metadata": {},
   "outputs": [
    {
     "name": "stdout",
     "output_type": "stream",
     "text": [
      "Calcul en cours ...\n",
      "Nombre d'itérations : 509\n",
      "Gif Sauvegardé dans le dossier sous le nom : movie_fond.gif\n"
     ]
    }
   ],
   "source": [
    "enregistre_U(n,t)\n",
    "\n",
    "print(\"Calcul en cours ...\")\n",
    "while(t<Tmax): # Tant que le temps max n'est pas atteint :\n",
    "\n",
    "    #print(\"t=\"+str(round(t,4)))\n",
    "    #print(\"n=\"+str(n))\n",
    "    #affiche_U()\n",
    "\n",
    "    M = vmax(U[:,1],U[:,2])\n",
    "    \n",
    "    for i in range(2, N+1):\n",
    "        M = max(M, vmax(U[:,i],U[:,i+1]) )\n",
    "    \n",
    "    # Pour assurer la stabilité, tau doit être inférieur à h/(2* max(vp))\n",
    "    tau = h/(2*M)\n",
    "   \n",
    "    for i in range(1, N+1):\n",
    "        \n",
    "        F_plus_12  = F_ronde(U[:,i] ,U[:,i+1])\n",
    "        F_moins_12 = F_ronde(U[:,i-1], U[:,i])\n",
    "        \n",
    "        Uprime[:,i] = U[:,i] - tau/h * (F_plus_12 - F_moins_12 ) - tau / h * Z_ronde(i)\n",
    "    \n",
    "    U = Uprime\n",
    "    \n",
    "    # Conditions aux bords\n",
    "    \n",
    "    #Périodique à gauche\n",
    "    U[:,0] = np.sin(5*t)/2 + .75\n",
    "    #Plat à gauche\n",
    "    #U[:,0] = U[:,1]\n",
    "    \n",
    "    \n",
    "    U[:,N+1] = U[:,N]\n",
    "\n",
    "    t+=tau\n",
    "    n+=1\n",
    "    \n",
    "  \n",
    "    if (t > Tmax/nSauvegarde*j and (j<nSauvegarde) and (not tSauvegarde[j])):\n",
    "        enregistre_U(n,t)\n",
    "        #affiche_U()\n",
    "        tSauvegarde[j]=True\n",
    "        j+=1\n",
    "\n",
    "print(\"Nombre d'itérations : \" + str(n))\n",
    "\n",
    "imageio.mimsave('movie_fond.gif', images)\n",
    "print(\"Gif Sauvegardé dans le dossier sous le nom : movie_fond.gif\")"
   ]
  },
  {
   "cell_type": "code",
   "execution_count": null,
   "id": "beef81be",
   "metadata": {},
   "outputs": [],
   "source": []
  }
 ],
 "metadata": {
  "kernelspec": {
   "display_name": "Python 3",
   "language": "python",
   "name": "python3"
  },
  "language_info": {
   "codemirror_mode": {
    "name": "ipython",
    "version": 3
   },
   "file_extension": ".py",
   "mimetype": "text/x-python",
   "name": "python",
   "nbconvert_exporter": "python",
   "pygments_lexer": "ipython3",
   "version": "3.6.2"
  }
 },
 "nbformat": 4,
 "nbformat_minor": 5
}
