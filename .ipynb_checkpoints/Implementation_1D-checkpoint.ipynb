{
 "cells": [
  {
   "cell_type": "markdown",
   "id": "three-brick",
   "metadata": {},
   "source": [
    "# Implémentation du schéma de Rusanov"
   ]
  },
  {
   "cell_type": "markdown",
   "id": "4259efda",
   "metadata": {},
   "source": [
    "## Importations"
   ]
  },
  {
   "cell_type": "code",
   "execution_count": 1,
   "id": "foster-study",
   "metadata": {},
   "outputs": [],
   "source": [
    "import math as math\n",
    "import matplotlib.pyplot as plt\n",
    "\n",
    "from matplotlib.backends.backend_agg import FigureCanvasAgg as FigureCanvas\n",
    "from matplotlib.figure import Figure\n",
    "\n",
    "import numpy as np\n",
    "import imageio\n",
    "\n",
    "import time"
   ]
  },
  {
   "cell_type": "markdown",
   "id": "20219442",
   "metadata": {},
   "source": [
    "## Paramètres du problème"
   ]
  },
  {
   "cell_type": "code",
   "execution_count": 110,
   "id": "swiss-anthropology",
   "metadata": {},
   "outputs": [],
   "source": [
    "g=1 # Constante gravitationnelle\n",
    "\n",
    "xMin=0 # Bord gauche du domaine\n",
    "xMax=1 # Bord droit du domaine\n",
    "\n",
    "l=8\n",
    "N=2**l # Nombre de points (strictement à l'intérieur)\n",
    "# Donc au total, on considère N+2 points avec les bords\n",
    "h=(xMax-xMin)/(N+1) # Pas du maillage spatial\n",
    "\n",
    "Tmax = .03 # Temps final de la simulation\n",
    "t=0 # Temps dans la simulation\n",
    "n=0 # Nombre d'itérations"
   ]
  },
  {
   "cell_type": "markdown",
   "id": "768ddf4e",
   "metadata": {},
   "source": [
    "## Conditions initiales"
   ]
  },
  {
   "cell_type": "code",
   "execution_count": 111,
   "id": "9fa04113",
   "metadata": {},
   "outputs": [],
   "source": [
    "X=np.linspace(xMin,xMax,N+2) # Discrétisation de [xMin, xMax]\n",
    "\n",
    "U=np.ones([2,N+2]) # discrétisation du vecteur (h, q)\n",
    "Uprime=np.zeros([2,N+2]) # Va servir d'intermédiaire de calcul\n",
    "\n",
    "# Définitions du h initial ------------------------------------\n",
    "\n",
    "# Hauteur de l'eau en escalier \n",
    "U[0,0:(N+2)//2]=3\n",
    "U[0,(N+2)//2:N+2]=1.25\n",
    "\n",
    "# Hauteur de l'eau constante\n",
    "# U[0,:]=1-Z\n",
    "\n",
    "# Hauteur de l'eau en bosse\n",
    "#U[0,:]=1+2/(1+.05*(X-50)**2)\n",
    "#U[0,:]=2.5+1/np.cosh(1+25*(X-.1))**2 - Z[:]\n",
    "\n",
    "# Définitions du q initial ------------------------------------\n",
    "\n",
    "# Débit de l'eau constant\n",
    "U[1,:]=0"
   ]
  },
  {
   "cell_type": "markdown",
   "id": "surprising-bloom",
   "metadata": {},
   "source": [
    "## Nombre de sauvegardes durant la simulation"
   ]
  },
  {
   "cell_type": "code",
   "execution_count": 112,
   "id": "beautiful-resistance",
   "metadata": {},
   "outputs": [],
   "source": [
    "nSauvegarde=150 # Nombre de sauvegardes au cours de la simulation\n",
    "tSauvegarde=[False for i in range(nSauvegarde)]\n",
    "listeH = []\n",
    "listeT = []\n",
    "\n",
    "images=[]\n",
    "j=0 # Nombre de sauvegardes déjà effectuées"
   ]
  },
  {
   "cell_type": "markdown",
   "id": "wanted-delta",
   "metadata": {},
   "source": [
    "## Affichage des images"
   ]
  },
  {
   "cell_type": "code",
   "execution_count": 113,
   "id": "desperate-respect",
   "metadata": {},
   "outputs": [
    {
     "data": {
      "image/png": "[encoded data removed]",
      "text/plain": [
       "<Figure size 864x576 with 2 Axes>"
      ]
     },
     "metadata": {
      "needs_background": "light"
     },
     "output_type": "display_data"
    }
   ],
   "source": [
    "def affiche_U(t):\n",
    "    \n",
    "    t_int=round(t,4) # Troncature de t après la 4eme décimale\n",
    "    \n",
    "    fig,axs=plt.subplots(2,1,figsize=(12,8))\n",
    "    \n",
    "    # fig.suptitle(\"t = \"+str(t_int),style='italic',size=30)\n",
    "    fig.tight_layout()\n",
    "    \n",
    "    plt.rc('font', size=20)\n",
    "    \n",
    "    \n",
    "    axs[0].plot(X,U[0,:])\n",
    "    axs[0].set_title(\"h\",fontweight=\"bold\",pad=15)\n",
    "    axs[0].set_xlim([xMin,xMax])\n",
    "    axs[0].set_ylim([0,4])\n",
    "    \n",
    "    axs[1].plot(X,U[1,:])\n",
    "    axs[1].set_title(\"q\", fontweight=\"bold\",pad=15)\n",
    "    axs[1].set_xlim([xMin,xMax])\n",
    "    axs[1].set_ylim([-4,4])\n",
    "    \n",
    "    # axs[1].set_xlabel(\"Quantité d'eau : \"+str(round(sum(U[0,:])*h,2)))\n",
    "    \n",
    "    plt.show()\n",
    "\n",
    "affiche_U(0) # Test d'affichage de la solution"
   ]
  },
  {
   "cell_type": "markdown",
   "id": "459dc878",
   "metadata": {},
   "source": [
    "## Sauvegarde des images"
   ]
  },
  {
   "cell_type": "code",
   "execution_count": 114,
   "id": "957b6036",
   "metadata": {},
   "outputs": [],
   "source": [
    "def enregistre_U(n,t):\n",
    "    \n",
    "    \n",
    "    t_int=round(t,4) # Troncature de t après la 4eme décimale\n",
    "    \n",
    "    listeH.append(U[0,:].copy())\n",
    "    listeT.append(t_int)\n",
    "    \n",
    "    fig,axs=plt.subplots(2,1,figsize=(12,8))\n",
    "    \n",
    "    fig.suptitle(\"t = \"+str(t_int),style='italic',size=30)\n",
    "    fig.tight_layout()\n",
    "    \n",
    "    plt.rc('font',size=20)\n",
    "       \n",
    "    axs[0].plot(X,U[0,:])\n",
    "    axs[0].set_title(\"h\", fontweight=\"bold\", pad=15)\n",
    "    axs[0].set_xlim([xMin,xMax])\n",
    "    axs[0].set_ylim([0,4])\n",
    "    \n",
    "    axs[1].plot(X,U[1,:])\n",
    "    axs[1].set_title(\"q\", fontweight=\"bold\", pad=15)\n",
    "    axs[1].set_xlim([xMin,xMax])\n",
    "    axs[1].set_ylim([-4,4])\n",
    "    \n",
    "    # axs[1].set_xlabel(\"Quantité d'eau : \"+str(round(sum(U[0,:])*h,2)))\n",
    "    \n",
    "    # To remove the huge white borders\n",
    "    axs[0].margins(0)\n",
    "    axs[1].margins(0)\n",
    "\n",
    "    fig.canvas.draw()\n",
    "    image_from_plot=np.frombuffer(fig.canvas.tostring_rgb(), dtype=np.uint8)\n",
    "    image_from_plot=image_from_plot.reshape(fig.canvas.get_width_height()[::-1]+(3,))\n",
    "    \n",
    "    images.append(image_from_plot)\n",
    "    \n",
    "    #Sauvegarde dans un fichier .png\n",
    "    #plt.savefig(\"etape\"+str(n)+\".png\")\n",
    "    \n",
    "    plt.close()"
   ]
  },
  {
   "cell_type": "markdown",
   "id": "pharmaceutical-fluid",
   "metadata": {},
   "source": [
    "## Fonction qui intervient dans le schéma :"
   ]
  },
  {
   "cell_type": "code",
   "execution_count": 115,
   "id": "geological-fluid",
   "metadata": {},
   "outputs": [],
   "source": [
    "# Fonction F du schéma :\n",
    "# Entrée : vecteur U = (h, q) (type numpy.ndarray)\n",
    "# Sortie : F(U) (type numpy.ndarray)\n",
    "def F(U):\n",
    "    return np.array([U[1],U[1]**2/U[0]+g*U[0]**2/2])\n",
    "\n",
    "# Fonction qui retourne la valeur propre max en module\n",
    "# Entrées : * U solution discrétisée (type numpy.ndarray de taille 2*(N+2))\n",
    "#           * indice i de la position spatiale\n",
    "# Sortie : max_j max_k |λ_k(U_j^n)|\n",
    "def vmax(U,i):\n",
    "    res = abs(U[1,i]/U[0,i]+math.sqrt(g*U[0,i]))\n",
    "    res = max(res,abs(U[1,i]/U[0,i]-math.sqrt(g*U[0,i])))\n",
    "    res = max(res,abs(U[1,i+1]/U[0,i+1]+math.sqrt(g*U[0,i+1])))\n",
    "    res = max(res,abs(U[1,i+1]/U[0,i+1]-math.sqrt(g*U[0,i+1])))\n",
    "    return res\n",
    "\n",
    "# Fonction flux numérique :\n",
    "# Entrées : * U solution discrétisée (type numpy.ndarray de taille 2*(N+2))\n",
    "#           * indice i de la position spatiale\n",
    "# Sortie : F_{i+1/2}^n\n",
    "def F_ronde(U,i):\n",
    "    #Flux Naïf\n",
    "    return (F(U[:,i])+F(U[:,i+1]))/2\n",
    "    \n",
    "    #Flux de Rusanov\n",
    "    #return (F(U[:,i])+F(U[:,i+1]))/2-vmax(U,i)*(U[:,i+1]-U[:,i])/2"
   ]
  },
  {
   "cell_type": "markdown",
   "id": "chicken-calvin",
   "metadata": {},
   "source": [
    "# Résolution :"
   ]
  },
  {
   "cell_type": "code",
   "execution_count": 116,
   "id": "geographic-person",
   "metadata": {},
   "outputs": [
    {
     "name": "stdout",
     "output_type": "stream",
     "text": [
      "Nombre d'itérations : 1 // t = 0.0010109245958573215\n",
      "Nombre d'itérations : 2 // t = 0.001935859179629567\n",
      "Nombre d'itérations : 3 // t = 0.0028017222428635457\n",
      "Nombre d'itérations : 4 // t = 0.0036171563576668786\n",
      "Nombre d'itérations : 5 // t = 0.004357281461719638\n",
      "Nombre d'itérations : 6 // t = 0.005053501541650772\n",
      "Nombre d'itérations : 7 // t = 0.005723763537194205\n",
      "Nombre d'itérations : 8 // t = 0.006380526352770723\n",
      "Nombre d'itérations : 9 // t = 0.007034141373186036\n",
      "Nombre d'itérations : 10 // t = 0.007694795425887026\n",
      "Nombre d'itérations : 11 // t = 0.008374235263476689\n",
      "Nombre d'itérations : 12 // t = 0.00908819062450889\n",
      "Nombre d'itérations : 13 // t = 0.00979824357593998\n",
      "Nombre d'itérations : 14 // t = 0.010514649546900639\n",
      "Nombre d'itérations : 15 // t = 0.011208265929758505\n",
      "Nombre d'itérations : 16 // t = 0.011877816044325647\n",
      "Nombre d'itérations : 17 // t = 0.012537584215018611\n",
      "Nombre d'itérations : 18 // t = 0.013200719771050421\n",
      "Nombre d'itérations : 19 // t = 0.01388128728678546\n",
      "Nombre d'itérations : 20 // t = 0.014546560880572606\n",
      "Nombre d'itérations : 21 // t = 0.015203910574982717\n",
      "Nombre d'itérations : 22 // t = 0.015852580427054484\n",
      "Nombre d'itérations : 23 // t = 0.016497663570377134\n",
      "Nombre d'itérations : 24 // t = 0.017135223399082994\n",
      "Nombre d'itérations : 25 // t = 0.017765305351835365\n",
      "Nombre d'itérations : 26 // t = 0.018401310202487503\n",
      "Nombre d'itérations : 27 // t = 0.019043003660154975\n",
      "Nombre d'itérations : 28 // t = 0.01966503906063338\n",
      "Nombre d'itérations : 29 // t = 0.020281423272834175\n",
      "Nombre d'itérations : 30 // t = 0.020905911777372242\n",
      "Nombre d'itérations : 31 // t = 0.021524643387116467\n",
      "Nombre d'itérations : 32 // t = 0.022125507191407538\n",
      "Nombre d'itérations : 33 // t = 0.022721767871969733\n",
      "Nombre d'itérations : 34 // t = 0.02332652164982997\n",
      "Nombre d'itérations : 35 // t = 0.023926635903950236\n",
      "Nombre d'itérations : 36 // t = 0.02451030055943724\n",
      "Nombre d'itérations : 37 // t = 0.025090471318127798\n",
      "Nombre d'itérations : 38 // t = 0.025680132829095096\n",
      "Nombre d'itérations : 39 // t = 0.02626080297242824\n",
      "Nombre d'itérations : 40 // t = 0.02682618556511171\n",
      "Nombre d'itérations : 41 // t = 0.027388714938260145\n",
      "Nombre d'itérations : 42 // t = 0.027960911995095757\n",
      "Nombre d'itérations : 43 // t = 0.028523887484046963\n",
      "Nombre d'itérations : 44 // t = 0.029072437593274814\n",
      "Nombre d'itérations : 45 // t = 0.029373024302341254\n",
      "Nombre d'itérations : 46 // t = 0.029636120243666086\n",
      "Nombre d'itérations : 47 // t = 0.029896833878706078\n",
      "Nombre d'itérations : 48 // t = 0.030176433077642353\n",
      "Nombre d'itérations : 48\n",
      "Gif Sauvegardé dans le dossier sous le nom : movie.gif\n"
     ]
    }
   ],
   "source": [
    "while(t<Tmax): # Tant que le temps max n'est pas atteint :\n",
    "    \n",
    "    M = vmax(U, 0)\n",
    "    for i in range(1, N+1):\n",
    "        M = max(M, vmax(U, i))\n",
    "    \n",
    "    # Pour assurer la stabilité, tau doit être inférieur à h/(2* max(vp))\n",
    "    tau = 0.9*h/(2*M)\n",
    "    \n",
    "    for i in range(1, N+1):\n",
    "        Uprime[:,i] = U[:,i]+tau/(h)*(F_ronde(U,i-1)-F_ronde(U,i))\n",
    "        \n",
    "    U[:] = Uprime\n",
    "    \n",
    "    # Conditions aux bords\n",
    "    U[:,0] = U[:,1]\n",
    "    U[:,N+1] = U[:,N]\n",
    "\n",
    "    t+=tau\n",
    "    n+=1\n",
    "    \n",
    "    print(\"Nombre d'itérations : \" + str(n) + \" // t = \" + str(t) )\n",
    "    \n",
    "    if (t > Tmax/nSauvegarde*j and (j<nSauvegarde) and (not tSauvegarde[j])):\n",
    "        enregistre_U(n,t)\n",
    "        #affiche_U()\n",
    "        tSauvegarde[j]=True\n",
    "        j+=1\n",
    "\n",
    "print(\"Nombre d'itérations : \" + str(n))\n",
    "imageio.mimsave('movie.gif', images)\n",
    "print(\"Gif Sauvegardé dans le dossier sous le nom : movie.gif\")"
   ]
  },
  {
   "cell_type": "code",
   "execution_count": 130,
   "id": "f702cbde",
   "metadata": {},
   "outputs": [
    {
     "data": {
      "image/png": "[encoded data removed]",
      "text/plain": [
       "<Figure size 432x288 with 1 Axes>"
      ]
     },
     "metadata": {
      "needs_background": "light"
     },
     "output_type": "display_data"
    }
   ],
   "source": [
    "def afficheNaif():\n",
    "    #Pour nSauvegarde=4\n",
    "    plt.plot(X[114:144],listeH[0][114:144],color=\"green\")\n",
    "    plt.plot(X[114:144],listeH[1][114:144],color=\"yellow\")\n",
    "    plt.plot(X[114:144],listeH[2][114:144],color=\"orange\")    \n",
    "    plt.plot(X[114:144],listeH[3][114:144],color=\"red\")\n",
    "    plt.legend([\"t=\"+str(listeT[0]),\"t=\"+str(listeT[1]),\"t=\"+str(listeT[2]),\"t=\"+str(listeT[3])], loc =\"upper right\", prop={'size': 6})\n",
    "    plt.savefig(\"testImageNaif.pdf\")\n",
    "afficheNaif()"
   ]
  },
  {
   "cell_type": "code",
   "execution_count": null,
   "id": "fdd4d46f",
   "metadata": {},
   "outputs": [],
   "source": []
  }
 ],
 "metadata": {
  "kernelspec": {
   "display_name": "Python 3",
   "language": "python",
   "name": "python3"
  },
  "language_info": {
   "codemirror_mode": {
    "name": "ipython",
    "version": 3
   },
   "file_extension": ".py",
   "mimetype": "text/x-python",
   "name": "python",
   "nbconvert_exporter": "python",
   "pygments_lexer": "ipython3",
   "version": "3.6.2"
  }
 },
 "nbformat": 4,
 "nbformat_minor": 5
}
