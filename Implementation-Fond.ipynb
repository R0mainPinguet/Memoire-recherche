{
 "cells": [
  {
   "cell_type": "markdown",
   "id": "established-mumbai",
   "metadata": {},
   "source": [
    "# Implémentation du schéma de Rusanov"
   ]
  },
  {
   "cell_type": "markdown",
   "id": "dressed-wyoming",
   "metadata": {},
   "source": [
    "## Importations"
   ]
  },
  {
   "cell_type": "code",
   "execution_count": 771,
   "id": "middle-career",
   "metadata": {},
   "outputs": [],
   "source": [
    "import math as math\n",
    "import matplotlib.pyplot as plt\n",
    "import matplotlib.patches as patches\n",
    "\n",
    "from matplotlib.backends.backend_agg import FigureCanvasAgg as FigureCanvas\n",
    "from matplotlib.figure import Figure\n",
    "\n",
    "import numpy as np\n",
    "import imageio\n",
    "\n",
    "import time"
   ]
  },
  {
   "cell_type": "markdown",
   "id": "global-polyester",
   "metadata": {},
   "source": [
    "## Paramètres du problème"
   ]
  },
  {
   "cell_type": "code",
   "execution_count": 772,
   "id": "interracial-custom",
   "metadata": {},
   "outputs": [],
   "source": [
    "g=1 # Constante gravitationnelle\n",
    "\n",
    "xMin = 0\n",
    "xMax = 100\n",
    "\n",
    "N=1000\n",
    "h=(xMax-xMin)/(N+1) # Pas du maillage spatial\n",
    "\n",
    "Tmax=60 # Temps Max\n",
    "t=0 # Temps dans la simulation\n",
    "n=0 # Nombre d'itérations\n",
    "\n",
    "X = np.linspace(xMin,xMax,N+2) # Discrétisation de [xMin, xMax]\n",
    "\n",
    "# Tableau avec 2 lignes et N+2 colonnes : discrétisation du vecteur (h, q) en N parties + 2 aux bords\n",
    "\n",
    "U = 3*np.ones((2,N+2))\n",
    "Uprime = np.zeros((2,N+2)) # Pour faire les calculs dans la boucle\n",
    "    \n",
    "def Z(x):\n",
    "    return 0.1*(x<50)*(np.arctan(x-40)+np.pi/2)+0.1*(x>=50)*(np.arctan(60-x)+np.pi/2)"
   ]
  },
  {
   "cell_type": "markdown",
   "id": "dental-chorus",
   "metadata": {},
   "source": [
    "## Nombre de sauvegardes durant la simulation"
   ]
  },
  {
   "cell_type": "code",
   "execution_count": 773,
   "id": "cooked-haiti",
   "metadata": {},
   "outputs": [],
   "source": [
    "nSauvegarde=200\n",
    "tSauvegarde=[False for i in range(nSauvegarde)]\n",
    "images=[]\n",
    "j=0 #Nombre de sauvegardes déjà effectuées"
   ]
  },
  {
   "cell_type": "markdown",
   "id": "missing-darkness",
   "metadata": {},
   "source": [
    "## Conditions initiales"
   ]
  },
  {
   "cell_type": "code",
   "execution_count": 774,
   "id": "activated-balance",
   "metadata": {},
   "outputs": [],
   "source": [
    "U[0,:] = 3*(X<=10)+1.1*(X>10)-Z(X)"
   ]
  },
  {
   "cell_type": "markdown",
   "id": "disciplinary-token",
   "metadata": {},
   "source": [
    "## Affichage des images"
   ]
  },
  {
   "cell_type": "code",
   "execution_count": 775,
   "id": "british-tractor",
   "metadata": {},
   "outputs": [
    {
     "data": {
      "image/png": "[encoded data removed]",
      "text/plain": [
       "<Figure size 432x288 with 2 Axes>"
      ]
     },
     "metadata": {
      "needs_background": "light"
     },
     "output_type": "display_data"
    }
   ],
   "source": [
    "def affiche_U():\n",
    "    \n",
    "    fig, axs = plt.subplots(2,1)\n",
    "    \n",
    "    ###\n",
    "    Z_array = Z(X)\n",
    "    h_z = U[0,:]+Z_array\n",
    "    axs[0].plot(X,h_z)\n",
    "    ###\n",
    "    \n",
    "    axs[0].set_title(\"h\")\n",
    "    axs[0].set_xlim([xMin,xMax])\n",
    "    axs[0].set_ylim([0,4])\n",
    "    axs[0].fill_between(X, Z_array, step=\"pre\", alpha=0.5, color=\"grey\")\n",
    "    \n",
    "    axs[1].plot(X,U[1,:])\n",
    "    axs[1].set_title(\"q\")\n",
    "    axs[1].set_xlim([xMin,xMax])\n",
    "    axs[1].set_ylim([0,4])\n",
    "        \n",
    "    plt.show()\n",
    "    \n",
    "affiche_U()"
   ]
  },
  {
   "cell_type": "markdown",
   "id": "korean-niger",
   "metadata": {},
   "source": [
    "## Sauvegarde des images"
   ]
  },
  {
   "cell_type": "code",
   "execution_count": 776,
   "id": "brown-restoration",
   "metadata": {},
   "outputs": [],
   "source": [
    "def enregistre_U(n,t):\n",
    "\n",
    "    t_int=round(t,4) # Troncature de t après la 4eme décimale\n",
    "    \n",
    "    fig, axs = plt.subplots(2,1)\n",
    "    fig.suptitle(\"t=\"+str(t_int),fontsize=16)\n",
    "\n",
    "    ###\n",
    "    Z_array = Z(X)\n",
    "    h_z = U[0,:]+Z_array\n",
    "    axs[0].plot(X,h_z)\n",
    "    ###\n",
    "    \n",
    "    axs[0].set_title(\"h\")\n",
    "    axs[0].set_xlim([xMin,xMax])\n",
    "    axs[0].set_ylim([0,4])\n",
    "    axs[0].fill_between(X, Z_array , step=\"pre\", alpha=0.5,color=\"grey\")\n",
    "    \n",
    "    axs[1].plot(X,U[1,:])\n",
    "    axs[1].set_title(\"q\")\n",
    "    axs[1].set_xlim([xMin,xMax])\n",
    "    axs[1].set_ylim([0,4])\n",
    "        \n",
    "    # To remove the huge white borders\n",
    "    axs[0].margins(0)\n",
    "    axs[1].margins(0)\n",
    "\n",
    "    fig.canvas.draw()\n",
    "    image_from_plot = np.frombuffer(fig.canvas.tostring_rgb(), dtype=np.uint8)\n",
    "    image_from_plot = image_from_plot.reshape(fig.canvas.get_width_height()[::-1] + (3,))\n",
    "    \n",
    "    images.append(image_from_plot)\n",
    "    \n",
    "    #Sauvegarde dans un fichier png\n",
    "    #plt.savefig(\"etape\"+str(n)+\".png\")\n",
    "    \n",
    "    plt.close()"
   ]
  },
  {
   "cell_type": "markdown",
   "id": "soviet-thursday",
   "metadata": {},
   "source": [
    "## Fonctions qui interviennent dans le schéma :\n",
    "\n",
    "Notons \n",
    "$\\textbf{U}=\n",
    "\\begin{pmatrix}\n",
    "   h \\\\\n",
    "   q \\\\\n",
    "\\end{pmatrix}\n",
    "\\in\\mathbb{R}^{2}$ \n",
    "le vecteur inconnu. Les différentes fonctions du schéma qu'il s'agit d'implémenter sont $\\textbf{F}(\\textbf{U})$, $\\textbf{B}(\\textbf{U})$ et $\\mathcal{F}_{i+\\frac{1}{2}}^n$. Rappelons les différentes définitions :\n",
    "\n",
    "$$\n",
    "\\textbf{F} (\\textbf{U}) =\n",
    "\\begin{pmatrix}\n",
    "   q                                \\\\\n",
    "   \\frac{q^{2}}{h}+g\\frac{h^{2}}{2} \\\\\n",
    "\\end{pmatrix}\\in\\mathbb{R}^{2} ~\n",
    "\\text{et} ~~ \\textbf{B} (\\textbf{U}) =\n",
    "\\begin{pmatrix}\n",
    "   0                                \\\\\n",
    "   -gh \\frac{\\partial Z}{\\partial x}\\\\\n",
    "\\end{pmatrix}\n",
    "\\in\\mathbb{R}^{2}.\n",
    "$$\n",
    "\n",
    "$\\textbf{F} (\\textbf{U})$ désigne la fonction flux et $\\textbf{B} (\\textbf{U})$ le terme source. Avec ces notations,\n",
    "le système de départ se réécrit :  \n",
    "  \n",
    "$$\\frac{\\partial\\textbf{U}}{\\partial t}+\\frac{\\partial}{\\partial x}(\\textbf{F} (\\textbf{U})) = \\textbf{B} (\\textbf{U}).$$  \n",
    "  \n",
    "Et si l'on suppose que $Z\\equiv 0$, alors le schéma s'écrit simplement :  \n",
    "\n",
    "$$\\frac{\\textbf{U}_i^{n+1}-\\textbf{U}_i^{n}}{\\Delta t^n}+\\frac{\\mathcal{F}_{i+\\frac{1}{2}}^n - \\mathcal{F}_{i-\\frac{1}{2}}^n}{\\Delta x_i}=0$$\n",
    "\n",
    "Avec $$\\mathcal{F}_{i+\\frac{1}{2}}^n=\\frac{\\textbf{F}(\\textbf{U}_i^{n})+\\textbf{F}(\\textbf{U}_{i+1}^{n})}{2}-\\max_{j\\in\\{i,i+1\\}}\\max_{k\\in\\{1,2\\}}|\\lambda_k(\\textbf{U}_j^n)|\\frac{\\textbf{U}_{i+1}^n-\\textbf{U}_i^n}{2}.$$\n",
    "  \n",
    "En prenant une topographie $Z$ non triviale, on peut essayer de prendre le même schéma en rajoutant le terme source. Si l'on a accès à la dérivée $Z'$ de $Z$, le schéma s'écrit alors :\n",
    "\n",
    "$$\\frac{\\textbf{U}_i^{n+1}-\\textbf{U}_i^{n}}{\\Delta t^n}+\\frac{\\mathcal{F}_{i+\\frac{1}{2}}^n - \\mathcal{F}_{i-\\frac{1}{2}}^n}{\\Delta x_i}= \\begin{pmatrix}\n",
    "0 \\\\\n",
    "-gh_i Z'_i\\\\\n",
    "\\end{pmatrix}$$\n",
    "\n",
    "ou bien en utilisant des différences finies centrées pour approcher les dérivées :\n",
    "\n",
    "$$\\frac{\\textbf{U}_i^{n+1}-\\textbf{U}_i^{n}}{\\Delta t^n}+\\frac{\\mathcal{F}_{i+\\frac{1}{2}}^n - \\mathcal{F}_{i-\\frac{1}{2}}^n}{\\Delta x_i}= \\begin{pmatrix}\n",
    "0 \\\\\n",
    "-gh_i \\frac{Z_{i+1}-Z_{i-1}}{2\\Delta x_i}\\\\\n",
    "\\end{pmatrix}$$"
   ]
  },
  {
   "cell_type": "code",
   "execution_count": 777,
   "id": "advised-criterion",
   "metadata": {},
   "outputs": [],
   "source": [
    "# Fonction F du schéma :\n",
    "# Entrée : vecteur U = (h, q) (type numpy.ndarray)\n",
    "# Sortie : F(U) (type numpy.ndarray)\n",
    "def F(U):\n",
    "    return np.array([U[1],U[1]**2/U[0]+g*U[0]**2/2])\n",
    "\n",
    "# Fonction B du schéma :\n",
    "# Entrées : * vecteur U = (h, q) (type numpy.ndarray)\n",
    "#           * valeur dxZ de la dérivée spatiale de Z \n",
    "# Sortie : B(U) (type numpy.ndarray)\n",
    "def B(U,dxZ):\n",
    "    return np.array([0,-g*U[0]*dxZ])\n",
    "\n",
    "# Fonction qui retourne la valeur propre max en module\n",
    "# Entrées : * U solution discrétisée (type numpy.ndarray de taille 2*(N+2))\n",
    "#           * indice i de la position spatiale\n",
    "# Sortie : max_j max_k |λ_k(U_j^n)|\n",
    "def vmax(U,i):\n",
    "    res = abs(U[1,i]/U[0,i]+math.sqrt(g*U[0,i]))\n",
    "    res = max(res,abs(U[1,i]/U[0,i]-math.sqrt(g*U[0,i])))\n",
    "    res = max(res,abs(U[1,i+1]/U[0,i+1]+math.sqrt(g*U[0,i+1])))\n",
    "    res = max(res,abs(U[1,i+1]/U[0,i+1]-math.sqrt(g*U[0,i+1])))\n",
    "    return res\n",
    "\n",
    "# Fonction flux numérique :\n",
    "# Entrées : * U solution discrétisée (type numpy.ndarray de taille 2*(N+2))\n",
    "#           * indice i de la position spatiale\n",
    "# Sortie : F_{i+1/2}^n\n",
    "def F_ronde(U,i):\n",
    "    return (F(U[:,i])+F(U[:,i+1]))/2-vmax(U,i)*(U[:,i+1]-U[:,i])/2"
   ]
  },
  {
   "cell_type": "markdown",
   "id": "increasing-brain",
   "metadata": {},
   "source": [
    "## Boucle de résolution numérique :\n",
    "\n",
    "Une fois le pas de temps $\\Delta t^n$ déterminé, on passe du temps $t^n$ au temps $t^{n+1}$ suivant la relation explicite suivante :\n",
    "\n",
    "$$\\textbf{U}_i^{n+1}=\\textbf{U}_i^{n}-\\Delta t^n\\frac{\\mathcal{F}_{i+\\frac{1}{2}}^n - \\Delta t^n\\mathcal{F}_{i-\\frac{1}{2}}^n}{\\Delta x_i}+\\Delta t^n \\begin{pmatrix}\n",
    "0 \\\\\n",
    "-gh_i \\frac{Z_{i+1}-Z_{i-1}}{2\\Delta x_i}\\\\\n",
    "\\end{pmatrix}$$"
   ]
  },
  {
   "cell_type": "code",
   "execution_count": 778,
   "id": "colored-library",
   "metadata": {},
   "outputs": [
    {
     "name": "stdout",
     "output_type": "stream",
     "text": [
      "Calcul en cours ...\n",
      "Nombre d'itérations : 5071\n",
      "Gif Sauvegardé dans le dossier sous le nom : movie.gif\n"
     ]
    }
   ],
   "source": [
    "Z_array = Z(X)\n",
    "enregistre_U(n,t)\n",
    "\n",
    "print(\"Calcul en cours ...\")\n",
    "\n",
    "while(t<Tmax): # Tant que le temps max n'est pas atteint :\n",
    "    \n",
    "    M = vmax(U, 0)\n",
    "    for i in range(1, N+1):\n",
    "        M = max(M, vmax(U, i))\n",
    "    # Pour assurer la stabilité, tau doit être inférieur à h/(2* max(vp))\n",
    "    tau = 0.8*h/(2*M)\n",
    "    \n",
    "    for i in range(1, N+1):\n",
    "        Uprime[0,i] = U[0,i]+tau/h*(F_ronde(U,i-1)-F_ronde(U,i))[0]\n",
    "        Uprime[1,i] = U[1,i]+tau/h*(F_ronde(U,i-1)-F_ronde(U,i))[1]\n",
    "        dxZ = (Z_array[i+1]-Z_array[i-1])/2/h\n",
    "        Uprime[:,i] += tau*B(U[:,i], dxZ)\n",
    "        \n",
    "    U = Uprime\n",
    "    Uprime = np.zeros((2,N+2))\n",
    "    \n",
    "    # Conditions aux bords\n",
    "    U[:,0] = 0.1+1/(t+1)\n",
    "    U[:,N+1] = U[:,N]\n",
    "\n",
    "    t+=tau\n",
    "    n+=1\n",
    "    \n",
    "    if (t > Tmax/nSauvegarde*j and (j<nSauvegarde) and (not tSauvegarde[j])):\n",
    "        enregistre_U(n,t)\n",
    "        #affiche_U()\n",
    "        tSauvegarde[j]=True\n",
    "        j+=1\n",
    "\n",
    "print(\"Nombre d'itérations : \" + str(n))\n",
    "\n",
    "imageio.mimsave('movieb.gif', images)\n",
    "print(\"Gif Sauvegardé dans le dossier sous le nom : movie.gif\")"
   ]
  },
  {
   "cell_type": "code",
   "execution_count": null,
   "id": "large-crest",
   "metadata": {},
   "outputs": [],
   "source": []
  }
 ],
 "metadata": {
  "kernelspec": {
   "display_name": "Python 3",
   "language": "python",
   "name": "python3"
  },
  "language_info": {
   "codemirror_mode": {
    "name": "ipython",
    "version": 3
   },
   "file_extension": ".py",
   "mimetype": "text/x-python",
   "name": "python",
   "nbconvert_exporter": "python",
   "pygments_lexer": "ipython3",
   "version": "3.8.5"
  }
 },
 "nbformat": 4,
 "nbformat_minor": 5
}
