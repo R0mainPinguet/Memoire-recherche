{
 "cells": [
  {
   "cell_type": "markdown",
   "id": "three-brick",
   "metadata": {},
   "source": [
    "# Implémentation du schéma de Rusanov"
   ]
  },
  {
   "cell_type": "code",
   "execution_count": 70,
   "id": "foster-study",
   "metadata": {},
   "outputs": [],
   "source": [
    "# Importations\n",
    "import math as math\n",
    "import matplotlib.pyplot as plt\n",
    "\n",
    "from matplotlib.backends.backend_agg import FigureCanvasAgg as FigureCanvas\n",
    "from matplotlib.figure import Figure\n",
    "\n",
    "import numpy as np\n",
    "import imageio\n",
    "\n",
    "import time"
   ]
  },
  {
   "cell_type": "markdown",
   "id": "20219442",
   "metadata": {},
   "source": [
    "# Paramètres du problème"
   ]
  },
  {
   "cell_type": "code",
   "execution_count": 71,
   "id": "swiss-anthropology",
   "metadata": {},
   "outputs": [],
   "source": [
    "g=1 # Constante gravitationnelle\n",
    "\n",
    "N=64\n",
    "h=1/(N+1) # Pas du maillage spatial\n",
    "\n",
    "T=1 # Temps Max\n",
    "t=0 # Temps dans la simulation\n",
    "n=0 # Nombre d'itérations\n",
    "\n",
    "X = np.linspace(0, 1, N+2) # Discrétisation de [0, 1]\n",
    "\n",
    "# Tableau avec 2 lignes et N colonnes : discrétisation du vecteur (h, q) en N parties\n",
    "# On commence avec h = q = 1 sur tout l'ensemble étudié :\n",
    "\n",
    "U = np.ones((2,N+2))\n",
    "Uprime = np.zeros((2,N+2)) # Pour faire les calculs dans la boucle\n",
    "\n",
    "for i in range(int((N+2)/2),N+2):\n",
    "    U[1,i] = .5"
   ]
  },
  {
   "cell_type": "markdown",
   "id": "surprising-bloom",
   "metadata": {},
   "source": [
    "Code pour permettre la sauvegarde d'un nombre déterminé d'étapes (pour ne pas enregistrer toutes les étapes) :"
   ]
  },
  {
   "cell_type": "code",
   "execution_count": 72,
   "id": "beautiful-resistance",
   "metadata": {},
   "outputs": [],
   "source": [
    "nSauvegarde=20\n",
    "j=0\n",
    "tSauvegarde=[False for i in range(nSauvegarde)]"
   ]
  },
  {
   "cell_type": "markdown",
   "id": "wanted-delta",
   "metadata": {},
   "source": [
    "# Affichage / Sauvegarde des images"
   ]
  },
  {
   "cell_type": "code",
   "execution_count": 73,
   "id": "desperate-respect",
   "metadata": {},
   "outputs": [],
   "source": [
    "def affiche_U():\n",
    "    \n",
    "    X = [h*i for i in range(N+2)]\n",
    "    fig, axs = plt.subplots(1,2)\n",
    "    \n",
    "    axs[0].plot(X,U[0,:])\n",
    "    axs[0].set_title(\"h\")\n",
    "    axs[0].set_ylim([0,1.5])\n",
    "    \n",
    "    axs[1].plot(X,U[1,:])\n",
    "    axs[1].set_title(\"q\")\n",
    "    axs[1].set_ylim([0,1.5])\n",
    "    \n",
    "    plt.show()\n",
    "\n",
    "    \n",
    "images=[]\n",
    "\n",
    "def enregistre_U(n,t):\n",
    "\n",
    "    t=round(t,4) # Troncature de t après la 4eme décimale\n",
    "    \n",
    "    fig, axs = plt.subplots(1,2)\n",
    "    fig.suptitle(\"t=\"+str(t),fontsize=16)\n",
    "\n",
    "    axs[0].plot(X,U[0,:])\n",
    "    axs[0].set_title(\"h\")\n",
    "    axs[0].set_ylim([0,1.5])\n",
    "    \n",
    "    axs[1].plot(X,U[1,:])\n",
    "    axs[1].set_title(\"q\")\n",
    "    axs[1].set_ylim([0,1.5])\n",
    "    \n",
    "  \n",
    "    # To remove the huge white borders\n",
    "    axs[0].margins(0)\n",
    "    axs[1].margins(0)\n",
    "\n",
    "    fig.canvas.draw()\n",
    "    image_from_plot = np.frombuffer(fig.canvas.tostring_rgb(), dtype=np.uint8)\n",
    "    image_from_plot = image_from_plot.reshape(fig.canvas.get_width_height()[::-1] + (3,))\n",
    "    \n",
    "    images.append(image_from_plot)\n",
    "    \n",
    "    #plt.savefig(\"etape\"+str(n)+\".png\")\n",
    "    \n",
    "    plt.close()"
   ]
  },
  {
   "cell_type": "markdown",
   "id": "pharmaceutical-fluid",
   "metadata": {},
   "source": [
    "# Fonction qui intervient dans le schéma :"
   ]
  },
  {
   "cell_type": "code",
   "execution_count": 74,
   "id": "geological-fluid",
   "metadata": {},
   "outputs": [],
   "source": [
    "def fonctionF(U,i,tau):\n",
    "    F=[]\n",
    "    F.append( U[1,i+1] - U[1,i-1] )\n",
    "    F.append( ( U[1,i+1]**2 ) / U[0,i+1] + (g*U[0,i+1]**2) / 2 - ( U[1,i-1]**2 ) / U[0,i-1] - (g*U[0,i-1]**2) / 2)\n",
    "    F[0] *= (tau/(2*h))\n",
    "    F[1] *= (tau/(2*h))\n",
    "    return(F)"
   ]
  },
  {
   "cell_type": "markdown",
   "id": "chicken-calvin",
   "metadata": {},
   "source": [
    "# Résolution :"
   ]
  },
  {
   "cell_type": "code",
   "execution_count": 75,
   "id": "geographic-person",
   "metadata": {},
   "outputs": [
    {
     "name": "stdout",
     "output_type": "stream",
     "text": [
      "Nombre d'itérations : 260\n",
      "Gif Sauvegardé !\n"
     ]
    }
   ],
   "source": [
    "maxListe = [0 for i in range(N+2)] # Liste qui va contenir les conditions de stabilité \n",
    "\n",
    "enregistre_U(n,t)\n",
    "\n",
    "while(t<T): # Tant que le temps max n'est pas atteint :\n",
    "\n",
    "    #print(\"t=\"+str(round(t,4)))\n",
    "    \n",
    "    # Recherche condition de stabilité\n",
    "    \n",
    "    for i in range(1,N+1):\n",
    "        \n",
    "        maxListe[i] = abs( U[1,i]/U[0,i] + math.sqrt(g * U[0,i] ) )\n",
    "        \n",
    "        if ( abs( U[1,i]/U[0,i] - math.sqrt(g * U[0,i] ) ) > maxListe[i] ):\n",
    "            maxListe[i] = abs( U[1,i]/U[0,i] - math.sqrt(g * U[0,i] ) )\n",
    "        \n",
    "        if ( abs( U[1,i+1]/U[0,i+1] + math.sqrt(g * U[0,i+1] ) ) > maxListe[i] ):\n",
    "            maxListe[i] = abs( U[1,i+1]/U[0,i+1] + math.sqrt(g * U[0,i+1] ) )\n",
    "    \n",
    "        if ( abs( U[1,i+1]/U[0,i+1] - math.sqrt(g * U[0,i+1] ) ) > maxListe[i] ):\n",
    "            maxListe[i] = abs( U[1,i+1]/U[0,i+1] - math.sqrt(g * U[0,i+1] ) )\n",
    "\n",
    "    M = max( maxListe )\n",
    "    \n",
    "    # Pour assurer la stabilité, tau doit être inférieur à h/(2* max(vp))\n",
    "    tau = h/(2*M)\n",
    "    \n",
    "    for i in range(1,N+1):\n",
    "        \n",
    "        F = fonctionF( U , i , tau )\n",
    "       \n",
    "        m1 = maxListe[i]\n",
    "        m2 = maxListe[i-1]\n",
    "        \n",
    "        Uprime[0,i] = U[0,i] - F[0] + (tau*m1/(2*h))*(U[0,i+1]-U[0,i]) - (tau*m2/(2*h))*(U[0,i]-U[0,i-1])\n",
    "        Uprime[1,i] = U[1,i] - F[1] + (tau*m1/(2*h))*(U[1,i+1]-U[1,i]) - (tau*m2/(2*h))*(U[1,i]-U[1,i-1])\n",
    "\n",
    "    for i in range(1,N+1):\n",
    "        U[0,i] = Uprime[0,i]\n",
    "        U[1,i] = Uprime[1,i]\n",
    "    \n",
    "        Uprime[0,i] = 0\n",
    "        Uprime[1,i] = 0\n",
    "    \n",
    "    # Conditions aux bords\n",
    "    U[0,0] = U[0,1]\n",
    "    U[1,0] = U[1,1]\n",
    "    U[0,N+1] = U[0,N]\n",
    "    U[1,N+1] = U[1,N]\n",
    "\n",
    "    t+=tau\n",
    "    n+=1\n",
    "    \n",
    "    if (t > T/nSauvegarde*j and (j<nSauvegarde) and (not tSauvegarde[j])):\n",
    "        enregistre_U(n,t)\n",
    "        #affiche_U()\n",
    "        tSauvegarde[j]=True\n",
    "        j+=1\n",
    "\n",
    "print(\"Nombre d'itérations : \" + str(n))\n",
    "\n",
    "imageio.mimsave('movie.gif', images)\n",
    "print(\"Gif Sauvegardé !\")"
   ]
  },
  {
   "cell_type": "markdown",
   "id": "e2540b89",
   "metadata": {},
   "source": [
    "<img src=\"files/movie.gif?{str(int(time.time()))}\" width=\"500\" align=\"center\">\n",
    "(Le time.time est pour que le navigateur recharge le gif à chaque modification, sinon il garde en mémoire le premier généré et n'est plus modifié)"
   ]
  },
  {
   "cell_type": "code",
   "execution_count": null,
   "id": "f702cbde",
   "metadata": {},
   "outputs": [],
   "source": []
  }
 ],
 "metadata": {
  "kernelspec": {
   "display_name": "Python 3",
   "language": "python",
   "name": "python3"
  },
  "language_info": {
   "codemirror_mode": {
    "name": "ipython",
    "version": 3
   },
   "file_extension": ".py",
   "mimetype": "text/x-python",
   "name": "python",
   "nbconvert_exporter": "python",
   "pygments_lexer": "ipython3",
   "version": "3.6.2"
  }
 },
 "nbformat": 4,
 "nbformat_minor": 5
}
