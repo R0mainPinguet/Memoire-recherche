{
 "cells": [
  {
   "cell_type": "markdown",
   "id": "established-mumbai",
   "metadata": {},
   "source": [
    "# Implémentation du schéma de Rusanov\n",
    "\n",
    "Voici le code à partir duquel nous avons obtenu les graphes du rapport. Ce code permet aussi de générer des fichier .gif et ainsi de visualiser les évolutions (hauteur d'eau et débit) au cours du temps."
   ]
  },
  {
   "cell_type": "markdown",
   "id": "dressed-wyoming",
   "metadata": {},
   "source": [
    "## Importations"
   ]
  },
  {
   "cell_type": "code",
   "execution_count": 1,
   "id": "middle-career",
   "metadata": {},
   "outputs": [],
   "source": [
    "import math as math # Pour les fonctions math\n",
    "import matplotlib.pyplot as plt # Pour l'affichage des graphes\n",
    "from matplotlib.backends.backend_agg import FigureCanvasAgg as FigureCanvas\n",
    "from matplotlib.figure import Figure\n",
    "import numpy as np # Pour les tableaux numpy\n",
    "import imageio # Pour faire des .gif"
   ]
  },
  {
   "cell_type": "markdown",
   "id": "global-polyester",
   "metadata": {},
   "source": [
    "## Paramètres du problème"
   ]
  },
  {
   "cell_type": "code",
   "execution_count": 2,
   "id": "interracial-custom",
   "metadata": {},
   "outputs": [],
   "source": [
    "g=1 # Constante gravitationnelle\n",
    "\n",
    "xMin=0 # Bord gauche du domaine\n",
    "xMax=100 # Bord droit du domaine\n",
    "\n",
    "N=512 # Nombre de points (strictement à l'intérieur)\n",
    "# Donc au total, on considère N+2 points avec les bords\n",
    "h=(xMax-xMin)/(N+1) # Pas du maillage spatial\n",
    "\n",
    "Tmax=10 # Temps final de la simulation\n",
    "t=0 # Temps dans la simulation\n",
    "n=0 # Nombre d'itérations"
   ]
  },
  {
   "cell_type": "markdown",
   "id": "missing-darkness",
   "metadata": {},
   "source": [
    "## Conditions initiales et Topographie\n",
    "\n",
    "Dans la cellule ci-dessous, nous définissons la discrétisation de l'axe des abscisses $\\textbf{X}$, ainsi que la topographie $\\textbf{Z}$ et les profils initiaux de la hauteur d'eau $h$ et du débit $q$. Le code en commentaire correspond à différentes initialisations possibles. Pour le suite, notons \n",
    "$\\textbf{U}=\n",
    "\\begin{pmatrix}\n",
    "   h \\\\\n",
    "   q \\\\\n",
    "\\end{pmatrix}\n",
    "\\in\\mathbb{R}^{2}$ \n",
    "le vecteur inconnu."
   ]
  },
  {
   "cell_type": "code",
   "execution_count": 3,
   "id": "activated-balance",
   "metadata": {},
   "outputs": [],
   "source": [
    "X=np.linspace(xMin,xMax,N+2) # Discrétisation de [xMin, xMax]\n",
    "U=np.ones([2,N+2]) # discrétisation du vecteur (h, q)\n",
    "Uprime=np.zeros([2,N+2]) # Va servir d'intermédiaire de calcul\n",
    "Z=np.zeros(N+2) # Discrétisation du fond Z\n",
    " \n",
    "# Définitions de Z --------------------------------------------\n",
    "\n",
    "# Conditions initiales avec Z en créneau :\n",
    "# Z[(N+2)//5:2*(N+2)//5]=0.3\n",
    "# Z[3*(N+2)//5:4*(N+2)//5]=0.3\n",
    "\n",
    "# Conditions initiales avec Z en bosse C infini :\n",
    "# Z=1/(1+.1*(X-50)**2)\n",
    "\n",
    "# Conditions initiales avec Z en escalier descendant :\n",
    "# Z[0:(N+2)//4]=.75\n",
    "# Z[(N+2)//4:3*(N+2)//4]=0.25\n",
    "\n",
    "# Conditions initiales avec Z en tangente hyperbolique :\n",
    "# Z=np.tanh(5-X)/2+.5\n",
    "\n",
    "\n",
    "# Définitions du h initial ------------------------------------\n",
    "\n",
    "# Hauteur de l'eau en escalier \n",
    "U[0,0:(N+2)//3]=3-Z[:(N+2)//3]\n",
    "# U[0,(N+2)//3:N+2]=1.25-Z[(N+2)//3:N+2]\n",
    "\n",
    "# Hauteur de l'eau constante\n",
    "# U[0,:]=1-Z\n",
    "\n",
    "# Hauteur de l'eau en bosse\n",
    "# U[0,:]=1+2/(1+.05*(X-50)**2)-Z\n",
    "\n",
    "\n",
    "# Définitions du q initial ------------------------------------\n",
    "\n",
    "# Débit de l'eau constant\n",
    "U[1,:]=0"
   ]
  },
  {
   "cell_type": "markdown",
   "id": "f479cdce",
   "metadata": {},
   "source": [
    "## Nombre de sauvegardes durant la simulation\n",
    "\n",
    "Quelques variables qui vont nous servir pour enregistrer des étapes de la simulation, sans pour autant les sauvegarder toutes. Sans ça, le nombre d'images à sauver deviendrait vite trop important."
   ]
  },
  {
   "cell_type": "code",
   "execution_count": 4,
   "id": "683e5d90",
   "metadata": {},
   "outputs": [],
   "source": [
    "nSauvegarde=10 # Nombre de sauvegardes au cours de la simulation\n",
    "tSauvegarde=[False for i in range(nSauvegarde)]\n",
    "images=[]\n",
    "j=0 # Nombre de sauvegardes déjà effectuées"
   ]
  },
  {
   "cell_type": "markdown",
   "id": "disciplinary-token",
   "metadata": {},
   "source": [
    "## Affichage des images\n",
    "\n",
    "La fonction ci-dessous permet de gérer l'affichage de la solution. Elle est suivie d'un test. Les graphes qui s'affichent sont ceux de $h$ et $q$ à $t=0$."
   ]
  },
  {
   "cell_type": "code",
   "execution_count": 5,
   "id": "british-tractor",
   "metadata": {},
   "outputs": [
    {
     "data": {
      "image/png": "[encoded data removed]",
      "text/plain": [
       "<Figure size 864x576 with 2 Axes>"
      ]
     },
     "metadata": {
      "needs_background": "light"
     },
     "output_type": "display_data"
    }
   ],
   "source": [
    "def affiche_U(t):\n",
    "    \n",
    "    t_int=round(t,4) # Troncature de t après la 4eme décimale\n",
    "    \n",
    "    fig,axs=plt.subplots(2,1,figsize=(12,8))\n",
    "    \n",
    "    fig.suptitle(\"t = \"+str(t_int),style='italic',size=30)\n",
    "    fig.tight_layout()\n",
    "    \n",
    "    plt.rc('font', size=20)\n",
    "    \n",
    "    h_z=U[0,:]+Z\n",
    "    \n",
    "    axs[0].plot(X,h_z)\n",
    "    axs[0].set_title(\"h\",fontweight=\"bold\",pad=15)\n",
    "    axs[0].set_xlim([xMin,xMax])\n",
    "    axs[0].set_ylim([0,4])\n",
    "    axs[0].fill_between(X,Z,step=\"pre\",alpha=0.5,color=\"grey\")\n",
    "    \n",
    "    axs[1].plot(X,U[1,:])\n",
    "    axs[1].set_title(\"q\", fontweight=\"bold\",pad=15)\n",
    "    axs[1].set_xlim([xMin,xMax])\n",
    "    axs[1].set_ylim([-4,4])\n",
    "    \n",
    "    # axs[1].set_xlabel(\"Quantité d'eau : \"+str(round(sum(U[0,:])*h,2)))\n",
    "    \n",
    "    plt.show()\n",
    "\n",
    "affiche_U(0) # Test d'affichage de la solution"
   ]
  },
  {
   "cell_type": "markdown",
   "id": "korean-niger",
   "metadata": {},
   "source": [
    "## Sauvegarde des images\n",
    "\n",
    "_enregistre_U_ effectue un traitement identique à _affiche_U_. La seule différence est qu'elle enregistre le plot dans le répertoire courant plutôt que de l'afficher."
   ]
  },
  {
   "cell_type": "code",
   "execution_count": 6,
   "id": "brown-restoration",
   "metadata": {},
   "outputs": [],
   "source": [
    "def enregistre_U(n,t):\n",
    "\n",
    "    t_int=round(t,4) # Troncature de t après la 4eme décimale\n",
    "      \n",
    "    fig,axs=plt.subplots(2,1,figsize=(12,8))\n",
    "    \n",
    "    fig.suptitle(\"t = \"+str(t_int),style='italic',size=30)\n",
    "    fig.tight_layout()\n",
    "    \n",
    "    plt.rc('font',size=20)\n",
    "    \n",
    "    h_z = U[0,:]+Z\n",
    "    \n",
    "    axs[0].plot(X,h_z)\n",
    "    axs[0].set_title(\"h\", fontweight=\"bold\", pad=15)\n",
    "    axs[0].set_xlim([xMin,xMax])\n",
    "    axs[0].set_ylim([0,4])\n",
    "    axs[0].fill_between(X,Z,step=\"pre\",alpha=0.5,color=\"grey\")\n",
    "    \n",
    "    axs[1].plot(X,U[1,:])\n",
    "    axs[1].set_title(\"q\", fontweight=\"bold\", pad=15)\n",
    "    axs[1].set_xlim([xMin,xMax])\n",
    "    axs[1].set_ylim([-4,4])\n",
    "    \n",
    "    # axs[1].set_xlabel(\"Quantité d'eau : \"+str(round(sum(U[0,:])*h,2)))\n",
    "    \n",
    "    # To remove the huge white borders\n",
    "    axs[0].margins(0)\n",
    "    axs[1].margins(0)\n",
    "\n",
    "    fig.canvas.draw()\n",
    "    image_from_plot=np.frombuffer(fig.canvas.tostring_rgb(), dtype=np.uint8)\n",
    "    image_from_plot=image_from_plot.reshape(fig.canvas.get_width_height()[::-1]+(3,))\n",
    "    \n",
    "    images.append(image_from_plot)\n",
    "    \n",
    "    #Sauvegarde dans un fichier .png\n",
    "    plt.savefig(\"etape\"+str(n)+\".png\")\n",
    "    \n",
    "    plt.close()\n",
    "    \n",
    "enregistre_U(0,0)"
   ]
  },
  {
   "cell_type": "markdown",
   "id": "soviet-thursday",
   "metadata": {},
   "source": [
    "## Fonctions qui interviennent dans le schéma \n",
    "\n",
    "$\\textbf{U}=\n",
    "\\begin{pmatrix}\n",
    "   h \\\\\n",
    "   q \\\\\n",
    "\\end{pmatrix}\n",
    "\\in\\mathbb{R}^{2}$ \n",
    "est le vecteur inconnu. Les différentes fonctions du schéma qu'il s'agit d'implémenter sont $\\textbf{F}(\\textbf{U})$, $\\textbf{B}(\\textbf{U})$ et $\\mathcal{F}_{i+\\frac{1}{2}}^n$. Rappelons les différentes définitions :\n",
    "\n",
    "$$\n",
    "\\textbf{F} (\\textbf{U}) =\n",
    "\\begin{pmatrix}\n",
    "   q                                \\\\\n",
    "   \\frac{q^{2}}{h}+g\\frac{h^{2}}{2} \\\\\n",
    "\\end{pmatrix}\\in\\mathbb{R}^{2} ~\n",
    "\\text{et} ~~ \\textbf{B} (\\textbf{U}) =\n",
    "\\begin{pmatrix}\n",
    "   0                                \\\\\n",
    "   -gh \\frac{\\partial Z}{\\partial x}\\\\\n",
    "\\end{pmatrix}\n",
    "\\in\\mathbb{R}^{2}.\n",
    "$$\n",
    "\n",
    "$\\textbf{F} (\\textbf{U})$ désigne la fonction flux et $\\textbf{B} (\\textbf{U})$ le terme source. Avec ces notations,\n",
    "le système de départ se réécrit :  \n",
    "  \n",
    "$$\\frac{\\partial\\textbf{U}}{\\partial t}+\\frac{\\partial}{\\partial x}(\\textbf{F} (\\textbf{U})) = \\textbf{B} (\\textbf{U}).$$  \n",
    "  \n",
    "Et si l'on suppose que $Z\\equiv 0$, alors le schéma s'écrit simplement :  \n",
    "\n",
    "$$\\frac{\\textbf{U}_i^{n+1}-\\textbf{U}_i^{n}}{\\Delta t^n}+\\frac{\\mathcal{F}_{i+\\frac{1}{2}}^n - \\mathcal{F}_{i-\\frac{1}{2}}^n}{\\Delta x_i}=0$$\n",
    "\n",
    "Avec $$\\mathcal{F}_{i+\\frac{1}{2}}^n=\\frac{\\textbf{F}(\\textbf{U}_i^{n})+\\textbf{F}(\\textbf{U}_{i+1}^{n})}{2}-\\max_{j\\in\\{i,i+1\\}}\\max_{k\\in\\{1,2\\}}|\\lambda_k(\\textbf{U}_j^n)|\\frac{\\textbf{U}_{i+1}^n-\\textbf{U}_i^n}{2}.$$\n",
    "  \n",
    "En prenant une topographie $Z$ non triviale, on peut essayer de prendre le même schéma en rajoutant le terme source. Si l'on a accès à la dérivée $Z'$ de $Z$, le schéma s'écrit alors :\n",
    "\n",
    "$$\\frac{\\textbf{U}_i^{n+1}-\\textbf{U}_i^{n}}{\\Delta t^n}+\\frac{\\mathcal{F}_{i+\\frac{1}{2}}^n - \\mathcal{F}_{i-\\frac{1}{2}}^n}{\\Delta x_i}= \\begin{pmatrix}\n",
    "0 \\\\\n",
    "-gh_i Z'_i\\\\\n",
    "\\end{pmatrix}$$\n",
    "\n",
    "ou bien en utilisant des différences finies centrées pour approcher les dérivées :\n",
    "\n",
    "$$\\frac{\\textbf{U}_i^{n+1}-\\textbf{U}_i^{n}}{\\Delta t^n}+\\frac{\\mathcal{F}_{i+\\frac{1}{2}}^n - \\mathcal{F}_{i-\\frac{1}{2}}^n}{\\Delta x_i}= \\begin{pmatrix}\n",
    "0 \\\\\n",
    "-gh_i \\frac{Z_{i+1}-Z_{i-1}}{2\\Delta x_i}\\\\\n",
    "\\end{pmatrix}$$"
   ]
  },
  {
   "cell_type": "code",
   "execution_count": 7,
   "id": "advised-criterion",
   "metadata": {},
   "outputs": [],
   "source": [
    "# Fonction F du schéma :\n",
    "# Entrée : vecteur U = (h, q) (type numpy.ndarray)\n",
    "# Sortie : F(U) (type numpy.ndarray)\n",
    "def F(U):\n",
    "    return np.array([U[1],U[1]**2/U[0]+g*U[0]**2/2])\n",
    "\n",
    "# Fonction B du schéma :\n",
    "# Entrées : * vecteur U = (h, q) (type numpy.ndarray)\n",
    "#           * valeur dxZ de la dérivée spatiale de Z \n",
    "# Sortie : B(U) (type numpy.ndarray)\n",
    "def B(U,i):\n",
    "    return np.array([0,-g*U[0]*(Z[i+1]-Z[i-1])/2])\n",
    "\n",
    "# Fonction qui retourne la valeur propre max en module\n",
    "# Entrées : * U solution discrétisée (type numpy.ndarray de taille 2*(N+2))\n",
    "#           * indice i de la position spatiale\n",
    "# Sortie : max_j max_k |λ_k(U_j^n)|\n",
    "def vmax(U,i):\n",
    "    res = abs(U[1,i]/U[0,i]+math.sqrt(g*U[0,i]))\n",
    "    res = max(res,abs(U[1,i]/U[0,i]-math.sqrt(g*U[0,i])))\n",
    "    res = max(res,abs(U[1,i+1]/U[0,i+1]+math.sqrt(g*U[0,i+1])))\n",
    "    res = max(res,abs(U[1,i+1]/U[0,i+1]-math.sqrt(g*U[0,i+1])))\n",
    "    return res\n",
    "\n",
    "# Fonction flux numérique :\n",
    "# Entrées : * U solution discrétisée (type numpy.ndarray de taille 2*(N+2))\n",
    "#           * indice i de la position spatiale\n",
    "# Sortie : F_{i+1/2}^n\n",
    "def F_ronde(U,i):\n",
    "    return (F(U[:,i])+F(U[:,i+1]))/2-vmax(U,i)*(U[:,i+1]-U[:,i])/2"
   ]
  },
  {
   "cell_type": "markdown",
   "id": "increasing-brain",
   "metadata": {},
   "source": [
    "## Boucle de résolution numérique\n",
    "\n",
    "Une fois le pas de temps $\\Delta t^n$ déterminé selon le critère qui garanti le respect de la conditions CFL, on passe du temps $t^n$ au temps $t^{n+1}$ suivant la relation explicite suivante :\n",
    "\n",
    "$$\\textbf{U}_i^{n+1}=\\textbf{U}_i^{n}-\\Delta t^n\\frac{\\mathcal{F}_{i+\\frac{1}{2}}^n - \\Delta t^n\\mathcal{F}_{i-\\frac{1}{2}}^n}{\\Delta x_i}+\\Delta t^n \\begin{pmatrix}\n",
    "0 \\\\\n",
    "-gh_i \\frac{Z_{i+1}-Z_{i-1}}{2\\Delta x_i}\\\\\n",
    "\\end{pmatrix}$$"
   ]
  },
  {
   "cell_type": "code",
   "execution_count": 8,
   "id": "colored-library",
   "metadata": {},
   "outputs": [
    {
     "name": "stdout",
     "output_type": "stream",
     "text": [
      "Nombre d'itérations : 269\n",
      "Gif Sauvegardé dans le dossier sous le nom : movie.gif\n"
     ]
    }
   ],
   "source": [
    "while(t<Tmax): # Tant que le temps max n'est pas atteint :\n",
    "    \n",
    "    M = vmax(U, 0)\n",
    "    for i in range(1, N+1):\n",
    "        M = max(M, vmax(U, i))\n",
    "    \n",
    "    # Pour assurer la stabilité, tau doit être inférieur à h/(2* max(vp))\n",
    "    tau = 0.8*h/(2*M)\n",
    "    \n",
    "    for i in range(1, N+1):\n",
    "        Uprime[:,i] = U[:,i]+tau/h*(F_ronde(U,i-1)-F_ronde(U,i))\n",
    "        Uprime[:,i] -= tau*B(U[:,i],i)\n",
    "        \n",
    "    U = Uprime\n",
    "    \n",
    "    # Conditions aux bords\n",
    "    U[:,0] = U[:,1]\n",
    "    U[:,N+1] = U[:,N]\n",
    "\n",
    "    t+=tau\n",
    "    n+=1\n",
    "    \n",
    "    if (t > Tmax/nSauvegarde*j and (j<nSauvegarde) and (not tSauvegarde[j])):\n",
    "        enregistre_U(n,t)\n",
    "        #affiche_U()\n",
    "        tSauvegarde[j]=True\n",
    "        j+=1\n",
    "\n",
    "print(\"Nombre d'itérations : \" + str(n))\n",
    "imageio.mimsave('movie.gif', images)\n",
    "print(\"Gif Sauvegardé dans le dossier sous le nom : movie.gif\")"
   ]
  }
 ],
 "metadata": {
  "kernelspec": {
   "display_name": "Python 3 (ipykernel)",
   "language": "python",
   "name": "python3"
  },
  "language_info": {
   "codemirror_mode": {
    "name": "ipython",
    "version": 3
   },
   "file_extension": ".py",
   "mimetype": "text/x-python",
   "name": "python",
   "nbconvert_exporter": "python",
   "pygments_lexer": "ipython3",
   "version": "3.9.10"
  }
 },
 "nbformat": 4,
 "nbformat_minor": 5
}
